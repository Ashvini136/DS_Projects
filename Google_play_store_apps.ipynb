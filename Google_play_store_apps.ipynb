{
 "cells": [
  {
   "cell_type": "code",
   "execution_count": 1,
   "id": "49c814ff",
   "metadata": {},
   "outputs": [],
   "source": [
    "import pandas as pd\n",
    "import matplotlib.pyplot as plt\n",
    "import numpy as np"
   ]
  },
  {
   "cell_type": "code",
   "execution_count": 2,
   "id": "ecc91c34",
   "metadata": {},
   "outputs": [],
   "source": [
    "df=pd.read_csv(\"D:\\Ashvini\\Data Science\\Data for practise\\googleplaystore.csv\")"
   ]
  },
  {
   "cell_type": "code",
   "execution_count": 3,
   "id": "1a95a716",
   "metadata": {},
   "outputs": [
    {
     "data": {
      "text/html": [
       "<div>\n",
       "<style scoped>\n",
       "    .dataframe tbody tr th:only-of-type {\n",
       "        vertical-align: middle;\n",
       "    }\n",
       "\n",
       "    .dataframe tbody tr th {\n",
       "        vertical-align: top;\n",
       "    }\n",
       "\n",
       "    .dataframe thead th {\n",
       "        text-align: right;\n",
       "    }\n",
       "</style>\n",
       "<table border=\"1\" class=\"dataframe\">\n",
       "  <thead>\n",
       "    <tr style=\"text-align: right;\">\n",
       "      <th></th>\n",
       "      <th>App</th>\n",
       "      <th>Category</th>\n",
       "      <th>Rating</th>\n",
       "      <th>Reviews</th>\n",
       "      <th>Size</th>\n",
       "      <th>Installs</th>\n",
       "      <th>Type</th>\n",
       "      <th>Price</th>\n",
       "      <th>Content Rating</th>\n",
       "      <th>Genres</th>\n",
       "      <th>Last Updated</th>\n",
       "      <th>Current Ver</th>\n",
       "      <th>Android Ver</th>\n",
       "    </tr>\n",
       "  </thead>\n",
       "  <tbody>\n",
       "    <tr>\n",
       "      <th>0</th>\n",
       "      <td>Photo Editor &amp; Candy Camera &amp; Grid &amp; ScrapBook</td>\n",
       "      <td>ART_AND_DESIGN</td>\n",
       "      <td>4.1</td>\n",
       "      <td>159</td>\n",
       "      <td>19M</td>\n",
       "      <td>10,000+</td>\n",
       "      <td>Free</td>\n",
       "      <td>0</td>\n",
       "      <td>Everyone</td>\n",
       "      <td>Art &amp; Design</td>\n",
       "      <td>January 7, 2018</td>\n",
       "      <td>1.0.0</td>\n",
       "      <td>4.0.3 and up</td>\n",
       "    </tr>\n",
       "    <tr>\n",
       "      <th>1</th>\n",
       "      <td>Coloring book moana</td>\n",
       "      <td>ART_AND_DESIGN</td>\n",
       "      <td>3.9</td>\n",
       "      <td>967</td>\n",
       "      <td>14M</td>\n",
       "      <td>500,000+</td>\n",
       "      <td>Free</td>\n",
       "      <td>0</td>\n",
       "      <td>Everyone</td>\n",
       "      <td>Art &amp; Design;Pretend Play</td>\n",
       "      <td>January 15, 2018</td>\n",
       "      <td>2.0.0</td>\n",
       "      <td>4.0.3 and up</td>\n",
       "    </tr>\n",
       "    <tr>\n",
       "      <th>2</th>\n",
       "      <td>U Launcher Lite – FREE Live Cool Themes, Hide ...</td>\n",
       "      <td>ART_AND_DESIGN</td>\n",
       "      <td>4.7</td>\n",
       "      <td>87510</td>\n",
       "      <td>8.7M</td>\n",
       "      <td>5,000,000+</td>\n",
       "      <td>Free</td>\n",
       "      <td>0</td>\n",
       "      <td>Everyone</td>\n",
       "      <td>Art &amp; Design</td>\n",
       "      <td>August 1, 2018</td>\n",
       "      <td>1.2.4</td>\n",
       "      <td>4.0.3 and up</td>\n",
       "    </tr>\n",
       "    <tr>\n",
       "      <th>3</th>\n",
       "      <td>Sketch - Draw &amp; Paint</td>\n",
       "      <td>ART_AND_DESIGN</td>\n",
       "      <td>4.5</td>\n",
       "      <td>215644</td>\n",
       "      <td>25M</td>\n",
       "      <td>50,000,000+</td>\n",
       "      <td>Free</td>\n",
       "      <td>0</td>\n",
       "      <td>Teen</td>\n",
       "      <td>Art &amp; Design</td>\n",
       "      <td>June 8, 2018</td>\n",
       "      <td>Varies with device</td>\n",
       "      <td>4.2 and up</td>\n",
       "    </tr>\n",
       "    <tr>\n",
       "      <th>4</th>\n",
       "      <td>Pixel Draw - Number Art Coloring Book</td>\n",
       "      <td>ART_AND_DESIGN</td>\n",
       "      <td>4.3</td>\n",
       "      <td>967</td>\n",
       "      <td>2.8M</td>\n",
       "      <td>100,000+</td>\n",
       "      <td>Free</td>\n",
       "      <td>0</td>\n",
       "      <td>Everyone</td>\n",
       "      <td>Art &amp; Design;Creativity</td>\n",
       "      <td>June 20, 2018</td>\n",
       "      <td>1.1</td>\n",
       "      <td>4.4 and up</td>\n",
       "    </tr>\n",
       "  </tbody>\n",
       "</table>\n",
       "</div>"
      ],
      "text/plain": [
       "                                                 App        Category  Rating  \\\n",
       "0     Photo Editor & Candy Camera & Grid & ScrapBook  ART_AND_DESIGN     4.1   \n",
       "1                                Coloring book moana  ART_AND_DESIGN     3.9   \n",
       "2  U Launcher Lite – FREE Live Cool Themes, Hide ...  ART_AND_DESIGN     4.7   \n",
       "3                              Sketch - Draw & Paint  ART_AND_DESIGN     4.5   \n",
       "4              Pixel Draw - Number Art Coloring Book  ART_AND_DESIGN     4.3   \n",
       "\n",
       "  Reviews  Size     Installs  Type Price Content Rating  \\\n",
       "0     159   19M      10,000+  Free     0       Everyone   \n",
       "1     967   14M     500,000+  Free     0       Everyone   \n",
       "2   87510  8.7M   5,000,000+  Free     0       Everyone   \n",
       "3  215644   25M  50,000,000+  Free     0           Teen   \n",
       "4     967  2.8M     100,000+  Free     0       Everyone   \n",
       "\n",
       "                      Genres      Last Updated         Current Ver  \\\n",
       "0               Art & Design   January 7, 2018               1.0.0   \n",
       "1  Art & Design;Pretend Play  January 15, 2018               2.0.0   \n",
       "2               Art & Design    August 1, 2018               1.2.4   \n",
       "3               Art & Design      June 8, 2018  Varies with device   \n",
       "4    Art & Design;Creativity     June 20, 2018                 1.1   \n",
       "\n",
       "    Android Ver  \n",
       "0  4.0.3 and up  \n",
       "1  4.0.3 and up  \n",
       "2  4.0.3 and up  \n",
       "3    4.2 and up  \n",
       "4    4.4 and up  "
      ]
     },
     "execution_count": 3,
     "metadata": {},
     "output_type": "execute_result"
    }
   ],
   "source": [
    "df.head()"
   ]
  },
  {
   "cell_type": "code",
   "execution_count": 4,
   "id": "4ee139ef",
   "metadata": {},
   "outputs": [
    {
     "name": "stdout",
     "output_type": "stream",
     "text": [
      "<class 'pandas.core.frame.DataFrame'>\n",
      "RangeIndex: 10841 entries, 0 to 10840\n",
      "Data columns (total 13 columns):\n",
      " #   Column          Non-Null Count  Dtype  \n",
      "---  ------          --------------  -----  \n",
      " 0   App             10841 non-null  object \n",
      " 1   Category        10841 non-null  object \n",
      " 2   Rating          9367 non-null   float64\n",
      " 3   Reviews         10841 non-null  object \n",
      " 4   Size            10841 non-null  object \n",
      " 5   Installs        10841 non-null  object \n",
      " 6   Type            10840 non-null  object \n",
      " 7   Price           10841 non-null  object \n",
      " 8   Content Rating  10840 non-null  object \n",
      " 9   Genres          10841 non-null  object \n",
      " 10  Last Updated    10841 non-null  object \n",
      " 11  Current Ver     10833 non-null  object \n",
      " 12  Android Ver     10838 non-null  object \n",
      "dtypes: float64(1), object(12)\n",
      "memory usage: 1.1+ MB\n"
     ]
    }
   ],
   "source": [
    "df.info()"
   ]
  },
  {
   "cell_type": "code",
   "execution_count": 5,
   "id": "cc03488b",
   "metadata": {},
   "outputs": [
    {
     "data": {
      "text/plain": [
       "(10841, 13)"
      ]
     },
     "execution_count": 5,
     "metadata": {},
     "output_type": "execute_result"
    }
   ],
   "source": [
    "df.shape"
   ]
  },
  {
   "cell_type": "code",
   "execution_count": 6,
   "id": "f93d5528",
   "metadata": {},
   "outputs": [
    {
     "data": {
      "text/html": [
       "<div>\n",
       "<style scoped>\n",
       "    .dataframe tbody tr th:only-of-type {\n",
       "        vertical-align: middle;\n",
       "    }\n",
       "\n",
       "    .dataframe tbody tr th {\n",
       "        vertical-align: top;\n",
       "    }\n",
       "\n",
       "    .dataframe thead th {\n",
       "        text-align: right;\n",
       "    }\n",
       "</style>\n",
       "<table border=\"1\" class=\"dataframe\">\n",
       "  <thead>\n",
       "    <tr style=\"text-align: right;\">\n",
       "      <th></th>\n",
       "      <th>count</th>\n",
       "      <th>mean</th>\n",
       "      <th>std</th>\n",
       "      <th>min</th>\n",
       "      <th>25%</th>\n",
       "      <th>50%</th>\n",
       "      <th>75%</th>\n",
       "      <th>max</th>\n",
       "    </tr>\n",
       "  </thead>\n",
       "  <tbody>\n",
       "    <tr>\n",
       "      <th>Rating</th>\n",
       "      <td>9367.0</td>\n",
       "      <td>4.193338</td>\n",
       "      <td>0.537431</td>\n",
       "      <td>1.0</td>\n",
       "      <td>4.0</td>\n",
       "      <td>4.3</td>\n",
       "      <td>4.5</td>\n",
       "      <td>19.0</td>\n",
       "    </tr>\n",
       "  </tbody>\n",
       "</table>\n",
       "</div>"
      ],
      "text/plain": [
       "         count      mean       std  min  25%  50%  75%   max\n",
       "Rating  9367.0  4.193338  0.537431  1.0  4.0  4.3  4.5  19.0"
      ]
     },
     "execution_count": 6,
     "metadata": {},
     "output_type": "execute_result"
    }
   ],
   "source": [
    "df.describe().T"
   ]
  },
  {
   "cell_type": "code",
   "execution_count": 7,
   "id": "1c4a1f9f",
   "metadata": {},
   "outputs": [
    {
     "data": {
      "text/plain": [
       "App                  0\n",
       "Category             0\n",
       "Rating            1474\n",
       "Reviews              0\n",
       "Size                 0\n",
       "Installs             0\n",
       "Type                 1\n",
       "Price                0\n",
       "Content Rating       1\n",
       "Genres               0\n",
       "Last Updated         0\n",
       "Current Ver          8\n",
       "Android Ver          3\n",
       "dtype: int64"
      ]
     },
     "execution_count": 7,
     "metadata": {},
     "output_type": "execute_result"
    }
   ],
   "source": [
    "df.isnull().sum()"
   ]
  },
  {
   "cell_type": "code",
   "execution_count": 8,
   "id": "8b2c23b7",
   "metadata": {},
   "outputs": [],
   "source": [
    "mean_rating=df['Rating'].mean()"
   ]
  },
  {
   "cell_type": "code",
   "execution_count": 9,
   "id": "f5fedd98",
   "metadata": {},
   "outputs": [],
   "source": [
    "df['Rating'].fillna(mean_rating,inplace=True)"
   ]
  },
  {
   "cell_type": "code",
   "execution_count": 10,
   "id": "aaba2ec2",
   "metadata": {},
   "outputs": [
    {
     "data": {
      "text/plain": [
       "App               0\n",
       "Category          0\n",
       "Rating            0\n",
       "Reviews           0\n",
       "Size              0\n",
       "Installs          0\n",
       "Type              1\n",
       "Price             0\n",
       "Content Rating    1\n",
       "Genres            0\n",
       "Last Updated      0\n",
       "Current Ver       8\n",
       "Android Ver       3\n",
       "dtype: int64"
      ]
     },
     "execution_count": 10,
     "metadata": {},
     "output_type": "execute_result"
    }
   ],
   "source": [
    "df.isnull().sum()"
   ]
  },
  {
   "cell_type": "code",
   "execution_count": 11,
   "id": "8f23c362",
   "metadata": {},
   "outputs": [],
   "source": [
    "df.dropna(inplace=True)"
   ]
  },
  {
   "cell_type": "code",
   "execution_count": 12,
   "id": "fa13f36b",
   "metadata": {},
   "outputs": [
    {
     "data": {
      "text/plain": [
       "(10829, 13)"
      ]
     },
     "execution_count": 12,
     "metadata": {},
     "output_type": "execute_result"
    }
   ],
   "source": [
    "df.shape"
   ]
  },
  {
   "cell_type": "code",
   "execution_count": 13,
   "id": "c80a71f4",
   "metadata": {},
   "outputs": [
    {
     "data": {
      "text/html": [
       "<div>\n",
       "<style scoped>\n",
       "    .dataframe tbody tr th:only-of-type {\n",
       "        vertical-align: middle;\n",
       "    }\n",
       "\n",
       "    .dataframe tbody tr th {\n",
       "        vertical-align: top;\n",
       "    }\n",
       "\n",
       "    .dataframe thead th {\n",
       "        text-align: right;\n",
       "    }\n",
       "</style>\n",
       "<table border=\"1\" class=\"dataframe\">\n",
       "  <thead>\n",
       "    <tr style=\"text-align: right;\">\n",
       "      <th></th>\n",
       "      <th>App</th>\n",
       "      <th>Category</th>\n",
       "      <th>Rating</th>\n",
       "      <th>Reviews</th>\n",
       "      <th>Size</th>\n",
       "      <th>Installs</th>\n",
       "      <th>Type</th>\n",
       "      <th>Price</th>\n",
       "      <th>Content Rating</th>\n",
       "      <th>Genres</th>\n",
       "      <th>Last Updated</th>\n",
       "      <th>Current Ver</th>\n",
       "      <th>Android Ver</th>\n",
       "    </tr>\n",
       "  </thead>\n",
       "  <tbody>\n",
       "    <tr>\n",
       "      <th>0</th>\n",
       "      <td>Photo Editor &amp; Candy Camera &amp; Grid &amp; ScrapBook</td>\n",
       "      <td>ART_AND_DESIGN</td>\n",
       "      <td>4.1</td>\n",
       "      <td>159</td>\n",
       "      <td>19M</td>\n",
       "      <td>10,000+</td>\n",
       "      <td>Free</td>\n",
       "      <td>0</td>\n",
       "      <td>Everyone</td>\n",
       "      <td>Art &amp; Design</td>\n",
       "      <td>January 7, 2018</td>\n",
       "      <td>1.0.0</td>\n",
       "      <td>4.0.3 and up</td>\n",
       "    </tr>\n",
       "    <tr>\n",
       "      <th>1</th>\n",
       "      <td>Coloring book moana</td>\n",
       "      <td>ART_AND_DESIGN</td>\n",
       "      <td>3.9</td>\n",
       "      <td>967</td>\n",
       "      <td>14M</td>\n",
       "      <td>500,000+</td>\n",
       "      <td>Free</td>\n",
       "      <td>0</td>\n",
       "      <td>Everyone</td>\n",
       "      <td>Art &amp; Design;Pretend Play</td>\n",
       "      <td>January 15, 2018</td>\n",
       "      <td>2.0.0</td>\n",
       "      <td>4.0.3 and up</td>\n",
       "    </tr>\n",
       "  </tbody>\n",
       "</table>\n",
       "</div>"
      ],
      "text/plain": [
       "                                              App        Category  Rating  \\\n",
       "0  Photo Editor & Candy Camera & Grid & ScrapBook  ART_AND_DESIGN     4.1   \n",
       "1                             Coloring book moana  ART_AND_DESIGN     3.9   \n",
       "\n",
       "  Reviews Size  Installs  Type Price Content Rating  \\\n",
       "0     159  19M   10,000+  Free     0       Everyone   \n",
       "1     967  14M  500,000+  Free     0       Everyone   \n",
       "\n",
       "                      Genres      Last Updated Current Ver   Android Ver  \n",
       "0               Art & Design   January 7, 2018       1.0.0  4.0.3 and up  \n",
       "1  Art & Design;Pretend Play  January 15, 2018       2.0.0  4.0.3 and up  "
      ]
     },
     "execution_count": 13,
     "metadata": {},
     "output_type": "execute_result"
    }
   ],
   "source": [
    "df.head(2)"
   ]
  },
  {
   "cell_type": "code",
   "execution_count": 14,
   "id": "d6866b35",
   "metadata": {},
   "outputs": [
    {
     "name": "stdout",
     "output_type": "stream",
     "text": [
      "<class 'pandas.core.frame.DataFrame'>\n",
      "Int64Index: 10829 entries, 0 to 10840\n",
      "Data columns (total 13 columns):\n",
      " #   Column          Non-Null Count  Dtype  \n",
      "---  ------          --------------  -----  \n",
      " 0   App             10829 non-null  object \n",
      " 1   Category        10829 non-null  object \n",
      " 2   Rating          10829 non-null  float64\n",
      " 3   Reviews         10829 non-null  object \n",
      " 4   Size            10829 non-null  object \n",
      " 5   Installs        10829 non-null  object \n",
      " 6   Type            10829 non-null  object \n",
      " 7   Price           10829 non-null  object \n",
      " 8   Content Rating  10829 non-null  object \n",
      " 9   Genres          10829 non-null  object \n",
      " 10  Last Updated    10829 non-null  object \n",
      " 11  Current Ver     10829 non-null  object \n",
      " 12  Android Ver     10829 non-null  object \n",
      "dtypes: float64(1), object(12)\n",
      "memory usage: 1.2+ MB\n"
     ]
    }
   ],
   "source": [
    "df.info()"
   ]
  },
  {
   "cell_type": "code",
   "execution_count": 15,
   "id": "f4410ab3",
   "metadata": {},
   "outputs": [
    {
     "data": {
      "text/plain": [
       "483"
      ]
     },
     "execution_count": 15,
     "metadata": {},
     "output_type": "execute_result"
    }
   ],
   "source": [
    "df.duplicated().sum()"
   ]
  },
  {
   "cell_type": "code",
   "execution_count": 16,
   "id": "e839c60a",
   "metadata": {},
   "outputs": [],
   "source": [
    "df.drop_duplicates(inplace=True)"
   ]
  },
  {
   "cell_type": "code",
   "execution_count": 17,
   "id": "c60de5f7",
   "metadata": {},
   "outputs": [
    {
     "data": {
      "text/plain": [
       "(10346, 13)"
      ]
     },
     "execution_count": 17,
     "metadata": {},
     "output_type": "execute_result"
    }
   ],
   "source": [
    "df.shape"
   ]
  },
  {
   "cell_type": "code",
   "execution_count": 18,
   "id": "17de28ec",
   "metadata": {},
   "outputs": [
    {
     "data": {
      "text/plain": [
       "['App',\n",
       " 'Category',\n",
       " 'Rating',\n",
       " 'Reviews',\n",
       " 'Size',\n",
       " 'Installs',\n",
       " 'Type',\n",
       " 'Price',\n",
       " 'Content Rating',\n",
       " 'Genres',\n",
       " 'Last Updated',\n",
       " 'Current Ver',\n",
       " 'Android Ver']"
      ]
     },
     "execution_count": 18,
     "metadata": {},
     "output_type": "execute_result"
    }
   ],
   "source": [
    "col=df.columns.to_list()\n",
    "col"
   ]
  },
  {
   "cell_type": "code",
   "execution_count": 19,
   "id": "f799d915",
   "metadata": {},
   "outputs": [
    {
     "name": "stdout",
     "output_type": "stream",
     "text": [
      "**************** App ********************\n",
      "ROBLOX                                           9\n",
      "8 Ball Pool                                      7\n",
      "Zombie Catchers                                  6\n",
      "Helix Jump                                       6\n",
      "Bubble Shooter                                   6\n",
      "                                                ..\n",
      "Popsicle Launcher for Android P 9.0 launcher     1\n",
      "PixelLab - Text on pictures                      1\n",
      "P Launcher for Android™ 9.0                      1\n",
      "Pacify (Android P theme) - Theme for Xperia™     1\n",
      "iHoroscope - 2018 Daily Horoscope & Astrology    1\n",
      "Name: App, Length: 9648, dtype: int64\n",
      "**************** Category ********************\n",
      "FAMILY                 1939\n",
      "GAME                   1121\n",
      "TOOLS                   841\n",
      "BUSINESS                427\n",
      "MEDICAL                 408\n",
      "PRODUCTIVITY            407\n",
      "PERSONALIZATION         386\n",
      "LIFESTYLE               373\n",
      "COMMUNICATION           366\n",
      "FINANCE                 360\n",
      "SPORTS                  351\n",
      "PHOTOGRAPHY             322\n",
      "HEALTH_AND_FITNESS      306\n",
      "SOCIAL                  280\n",
      "NEWS_AND_MAGAZINES      264\n",
      "TRAVEL_AND_LOCAL        237\n",
      "BOOKS_AND_REFERENCE     229\n",
      "SHOPPING                224\n",
      "DATING                  196\n",
      "VIDEO_PLAYERS           175\n",
      "MAPS_AND_NAVIGATION     137\n",
      "EDUCATION               130\n",
      "FOOD_AND_DRINK          124\n",
      "ENTERTAINMENT           111\n",
      "AUTO_AND_VEHICLES        85\n",
      "LIBRARIES_AND_DEMO       84\n",
      "WEATHER                  82\n",
      "HOUSE_AND_HOME           80\n",
      "EVENTS                   64\n",
      "ART_AND_DESIGN           64\n",
      "PARENTING                60\n",
      "COMICS                   60\n",
      "BEAUTY                   53\n",
      "Name: Category, dtype: int64\n",
      "**************** Rating ********************\n",
      "4.193338    1460\n",
      "4.400000    1031\n",
      "4.300000    1016\n",
      "4.500000     976\n",
      "4.200000     887\n",
      "4.600000     768\n",
      "4.100000     656\n",
      "4.000000     538\n",
      "4.700000     484\n",
      "3.900000     372\n",
      "3.800000     293\n",
      "5.000000     271\n",
      "3.700000     231\n",
      "4.800000     228\n",
      "3.600000     169\n",
      "3.500000     157\n",
      "3.400000     127\n",
      "3.300000     101\n",
      "4.900000      87\n",
      "3.000000      82\n",
      "3.100000      69\n",
      "3.200000      63\n",
      "2.900000      45\n",
      "2.800000      40\n",
      "2.600000      24\n",
      "2.700000      23\n",
      "2.500000      20\n",
      "2.300000      20\n",
      "2.400000      19\n",
      "1.000000      16\n",
      "2.200000      14\n",
      "1.900000      12\n",
      "2.000000      12\n",
      "1.700000       8\n",
      "1.800000       8\n",
      "2.100000       8\n",
      "1.600000       4\n",
      "1.400000       3\n",
      "1.500000       3\n",
      "1.200000       1\n",
      "Name: Rating, dtype: int64\n",
      "**************** Reviews ********************\n",
      "0          591\n",
      "1          271\n",
      "2          213\n",
      "3          170\n",
      "4          137\n",
      "          ... \n",
      "527247       1\n",
      "240475       1\n",
      "5282558      1\n",
      "654418       1\n",
      "398307       1\n",
      "Name: Reviews, Length: 5999, dtype: int64\n",
      "**************** Size ********************\n",
      "Varies with device    1525\n",
      "11M                    187\n",
      "12M                    186\n",
      "13M                    186\n",
      "14M                    181\n",
      "                      ... \n",
      "721k                     1\n",
      "430k                     1\n",
      "429k                     1\n",
      "200k                     1\n",
      "619k                     1\n",
      "Name: Size, Length: 457, dtype: int64\n",
      "**************** Installs ********************\n",
      "1,000,000+        1487\n",
      "10,000,000+       1132\n",
      "100,000+          1129\n",
      "10,000+           1031\n",
      "1,000+             888\n",
      "100+               709\n",
      "5,000,000+         683\n",
      "500,000+           516\n",
      "50,000+            473\n",
      "5,000+             468\n",
      "10+                384\n",
      "100,000,000+       369\n",
      "500+               328\n",
      "50,000,000+        272\n",
      "50+                204\n",
      "5+                  82\n",
      "1+                  67\n",
      "500,000,000+        61\n",
      "1,000,000,000+      49\n",
      "0+                  14\n",
      "Name: Installs, dtype: int64\n",
      "**************** Type ********************\n",
      "Free    9584\n",
      "Paid     762\n",
      "Name: Type, dtype: int64\n",
      "**************** Price ********************\n",
      "0          9584\n",
      "$0.99       144\n",
      "$2.99       125\n",
      "$1.99        73\n",
      "$4.99        70\n",
      "           ... \n",
      "$389.99       1\n",
      "$19.90        1\n",
      "$1.75         1\n",
      "$14.00        1\n",
      "$1.04         1\n",
      "Name: Price, Length: 92, dtype: int64\n",
      "**************** Content Rating ********************\n",
      "Everyone           8372\n",
      "Teen               1146\n",
      "Mature 17+          447\n",
      "Everyone 10+        376\n",
      "Adults only 18+       3\n",
      "Unrated               2\n",
      "Name: Content Rating, dtype: int64\n",
      "**************** Genres ********************\n",
      "Tools                                840\n",
      "Entertainment                        587\n",
      "Education                            526\n",
      "Business                             427\n",
      "Medical                              408\n",
      "                                    ... \n",
      "Parenting;Brain Games                  1\n",
      "Travel & Local;Action & Adventure      1\n",
      "Lifestyle;Pretend Play                 1\n",
      "Tools;Education                        1\n",
      "Strategy;Creativity                    1\n",
      "Name: Genres, Length: 119, dtype: int64\n",
      "**************** Last Updated ********************\n",
      "August 3, 2018        298\n",
      "August 2, 2018        270\n",
      "July 31, 2018         269\n",
      "August 1, 2018        257\n",
      "July 30, 2018         195\n",
      "                     ... \n",
      "January 16, 2016        1\n",
      "September 13, 2015      1\n",
      "October 7, 2015         1\n",
      "January 12, 2016        1\n",
      "March 23, 2014          1\n",
      "Name: Last Updated, Length: 1376, dtype: int64\n",
      "**************** Current Ver ********************\n",
      "Varies with device    1301\n",
      "1.0                    802\n",
      "1.1                    259\n",
      "1.2                    177\n",
      "2.0                    149\n",
      "                      ... \n",
      "3.18.5                   1\n",
      "1.3.A.2.9                1\n",
      "9.9.1.1910               1\n",
      "7.1.34.28                1\n",
      "2.0.148.0                1\n",
      "Name: Current Ver, Length: 2831, dtype: int64\n",
      "**************** Android Ver ********************\n",
      "4.1 and up            2379\n",
      "4.0.3 and up          1451\n",
      "4.0 and up            1335\n",
      "Varies with device    1220\n",
      "4.4 and up             894\n",
      "2.3 and up             642\n",
      "5.0 and up             546\n",
      "4.2 and up             386\n",
      "2.3.3 and up           279\n",
      "2.2 and up             239\n",
      "3.0 and up             236\n",
      "4.3 and up             235\n",
      "2.1 and up             133\n",
      "1.6 and up             115\n",
      "6.0 and up              58\n",
      "7.0 and up              42\n",
      "3.2 and up              36\n",
      "2.0 and up              31\n",
      "5.1 and up              22\n",
      "1.5 and up              19\n",
      "4.4W and up             11\n",
      "3.1 and up              10\n",
      "2.0.1 and up             7\n",
      "8.0 and up               6\n",
      "7.1 and up               3\n",
      "4.0.3 - 7.1.1            2\n",
      "5.0 - 8.0                2\n",
      "1.0 and up               2\n",
      "7.0 - 7.1.1              1\n",
      "4.1 - 7.1.1              1\n",
      "5.0 - 6.0                1\n",
      "2.2 - 7.1.1              1\n",
      "5.0 - 7.1.1              1\n",
      "Name: Android Ver, dtype: int64\n"
     ]
    }
   ],
   "source": [
    "\n",
    "for i in col:\n",
    "    print(\"****************\",i,\"********************\")\n",
    "    print(df[i].value_counts())\n",
    "    \n",
    "        "
   ]
  },
  {
   "cell_type": "code",
   "execution_count": 20,
   "id": "aa28574a",
   "metadata": {},
   "outputs": [
    {
     "name": "stdout",
     "output_type": "stream",
     "text": [
      "App\n",
      "Category\n",
      "Reviews\n",
      "Size\n",
      "Installs\n",
      "Type\n",
      "Price\n",
      "Content Rating\n",
      "Genres\n",
      "Last Updated\n",
      "Current Ver\n",
      "Android Ver\n"
     ]
    }
   ],
   "source": [
    "for i in col:\n",
    "    if df[i].dtype=='object':\n",
    "        print(i)"
   ]
  },
  {
   "cell_type": "code",
   "execution_count": 21,
   "id": "a12fd582",
   "metadata": {},
   "outputs": [
    {
     "name": "stdout",
     "output_type": "stream",
     "text": [
      "Rating\n"
     ]
    }
   ],
   "source": [
    "for i in col:\n",
    "    if df[i].dtype=='float64':\n",
    "        print(i)"
   ]
  },
  {
   "cell_type": "code",
   "execution_count": 22,
   "id": "9fa95dc4",
   "metadata": {},
   "outputs": [
    {
     "data": {
      "text/plain": [
       "dtype('O')"
      ]
     },
     "execution_count": 22,
     "metadata": {},
     "output_type": "execute_result"
    }
   ],
   "source": [
    "df['Reviews'].dtype"
   ]
  },
  {
   "cell_type": "code",
   "execution_count": 23,
   "id": "3c8e0ca4",
   "metadata": {},
   "outputs": [
    {
     "data": {
      "text/plain": [
       "<pandas.core.strings.accessor.StringMethods at 0x18b7bb12d90>"
      ]
     },
     "execution_count": 23,
     "metadata": {},
     "output_type": "execute_result"
    }
   ],
   "source": [
    "df['Reviews'].str"
   ]
  },
  {
   "cell_type": "code",
   "execution_count": 24,
   "id": "2370099f",
   "metadata": {},
   "outputs": [
    {
     "data": {
      "text/plain": [
       "10346"
      ]
     },
     "execution_count": 24,
     "metadata": {},
     "output_type": "execute_result"
    }
   ],
   "source": [
    "df['Reviews'].str.isnumeric().sum()"
   ]
  },
  {
   "cell_type": "code",
   "execution_count": 25,
   "id": "9dd05560",
   "metadata": {},
   "outputs": [],
   "source": [
    "df['Reviews']=df['Reviews'].astype(\"int\")"
   ]
  },
  {
   "cell_type": "code",
   "execution_count": 26,
   "id": "95f317f3",
   "metadata": {},
   "outputs": [
    {
     "data": {
      "text/plain": [
       "dtype('int32')"
      ]
     },
     "execution_count": 26,
     "metadata": {},
     "output_type": "execute_result"
    }
   ],
   "source": [
    "df['Reviews'].dtype"
   ]
  },
  {
   "cell_type": "code",
   "execution_count": 27,
   "id": "c716b828",
   "metadata": {},
   "outputs": [
    {
     "name": "stdout",
     "output_type": "stream",
     "text": [
      "<class 'pandas.core.frame.DataFrame'>\n",
      "Int64Index: 10346 entries, 0 to 10840\n",
      "Data columns (total 13 columns):\n",
      " #   Column          Non-Null Count  Dtype  \n",
      "---  ------          --------------  -----  \n",
      " 0   App             10346 non-null  object \n",
      " 1   Category        10346 non-null  object \n",
      " 2   Rating          10346 non-null  float64\n",
      " 3   Reviews         10346 non-null  int32  \n",
      " 4   Size            10346 non-null  object \n",
      " 5   Installs        10346 non-null  object \n",
      " 6   Type            10346 non-null  object \n",
      " 7   Price           10346 non-null  object \n",
      " 8   Content Rating  10346 non-null  object \n",
      " 9   Genres          10346 non-null  object \n",
      " 10  Last Updated    10346 non-null  object \n",
      " 11  Current Ver     10346 non-null  object \n",
      " 12  Android Ver     10346 non-null  object \n",
      "dtypes: float64(1), int32(1), object(11)\n",
      "memory usage: 1.1+ MB\n"
     ]
    }
   ],
   "source": [
    "df.info()"
   ]
  },
  {
   "cell_type": "code",
   "execution_count": 28,
   "id": "9c97f180",
   "metadata": {},
   "outputs": [
    {
     "data": {
      "text/plain": [
       "array(['19M', '14M', '8.7M', '25M', '2.8M', '5.6M', '29M', '33M', '3.1M',\n",
       "       '28M', '12M', '20M', '21M', '37M', '5.5M', '17M', '39M', '31M',\n",
       "       '4.2M', '7.0M', '23M', '6.0M', '6.1M', '4.6M', '9.2M', '5.2M',\n",
       "       '11M', '24M', 'Varies with device', '9.4M', '15M', '10M', '1.2M',\n",
       "       '26M', '8.0M', '7.9M', '56M', '57M', '35M', '54M', '201k', '3.6M',\n",
       "       '5.7M', '8.6M', '2.4M', '27M', '2.7M', '2.5M', '16M', '3.4M',\n",
       "       '8.9M', '3.9M', '2.9M', '38M', '32M', '5.4M', '18M', '1.1M',\n",
       "       '2.2M', '4.5M', '9.8M', '52M', '9.0M', '6.7M', '30M', '2.6M',\n",
       "       '7.1M', '3.7M', '22M', '7.4M', '6.4M', '3.2M', '8.2M', '9.9M',\n",
       "       '4.9M', '9.5M', '5.0M', '5.9M', '13M', '73M', '6.8M', '3.5M',\n",
       "       '4.0M', '2.3M', '7.2M', '2.1M', '42M', '7.3M', '9.1M', '55M',\n",
       "       '23k', '6.5M', '1.5M', '7.5M', '51M', '41M', '48M', '8.5M', '46M',\n",
       "       '8.3M', '4.3M', '4.7M', '3.3M', '40M', '7.8M', '8.8M', '6.6M',\n",
       "       '5.1M', '61M', '66M', '79k', '8.4M', '118k', '44M', '695k', '1.6M',\n",
       "       '6.2M', '18k', '53M', '1.4M', '3.0M', '5.8M', '3.8M', '9.6M',\n",
       "       '45M', '63M', '49M', '77M', '4.4M', '4.8M', '70M', '6.9M', '9.3M',\n",
       "       '10.0M', '8.1M', '36M', '84M', '97M', '2.0M', '1.9M', '1.8M',\n",
       "       '5.3M', '47M', '556k', '526k', '76M', '7.6M', '59M', '9.7M', '78M',\n",
       "       '72M', '43M', '7.7M', '6.3M', '334k', '34M', '93M', '65M', '79M',\n",
       "       '100M', '58M', '50M', '68M', '64M', '67M', '60M', '94M', '232k',\n",
       "       '99M', '624k', '95M', '8.5k', '41k', '292k', '80M', '1.7M', '74M',\n",
       "       '62M', '69M', '75M', '98M', '85M', '82M', '96M', '87M', '71M',\n",
       "       '86M', '91M', '81M', '92M', '83M', '88M', '704k', '862k', '899k',\n",
       "       '378k', '266k', '375k', '1.3M', '975k', '980k', '4.1M', '89M',\n",
       "       '696k', '544k', '525k', '920k', '779k', '853k', '720k', '713k',\n",
       "       '772k', '318k', '58k', '241k', '196k', '857k', '51k', '953k',\n",
       "       '865k', '251k', '930k', '540k', '313k', '746k', '203k', '26k',\n",
       "       '314k', '239k', '371k', '220k', '730k', '756k', '91k', '293k',\n",
       "       '17k', '74k', '14k', '317k', '78k', '924k', '902k', '818k', '81k',\n",
       "       '939k', '169k', '45k', '475k', '965k', '90M', '545k', '61k',\n",
       "       '283k', '655k', '714k', '93k', '872k', '121k', '322k', '1.0M',\n",
       "       '976k', '172k', '238k', '549k', '206k', '954k', '444k', '717k',\n",
       "       '210k', '609k', '308k', '705k', '306k', '904k', '473k', '175k',\n",
       "       '350k', '383k', '454k', '421k', '70k', '812k', '442k', '842k',\n",
       "       '417k', '412k', '459k', '478k', '335k', '782k', '721k', '430k',\n",
       "       '429k', '192k', '200k', '460k', '728k', '496k', '816k', '414k',\n",
       "       '506k', '887k', '613k', '243k', '569k', '778k', '683k', '592k',\n",
       "       '319k', '186k', '840k', '647k', '191k', '373k', '437k', '598k',\n",
       "       '716k', '585k', '982k', '219k', '55k', '948k', '323k', '691k',\n",
       "       '511k', '951k', '963k', '25k', '554k', '351k', '27k', '82k',\n",
       "       '208k', '913k', '514k', '551k', '29k', '103k', '898k', '743k',\n",
       "       '116k', '153k', '209k', '353k', '499k', '173k', '597k', '809k',\n",
       "       '122k', '411k', '400k', '801k', '787k', '50k', '643k', '986k',\n",
       "       '97k', '516k', '837k', '780k', '961k', '269k', '20k', '498k',\n",
       "       '600k', '749k', '642k', '881k', '72k', '656k', '601k', '221k',\n",
       "       '228k', '108k', '940k', '176k', '33k', '663k', '34k', '942k',\n",
       "       '259k', '164k', '458k', '245k', '629k', '28k', '288k', '775k',\n",
       "       '785k', '636k', '916k', '994k', '309k', '485k', '914k', '903k',\n",
       "       '608k', '500k', '54k', '562k', '847k', '957k', '688k', '811k',\n",
       "       '270k', '48k', '329k', '523k', '921k', '874k', '981k', '784k',\n",
       "       '280k', '24k', '518k', '754k', '892k', '154k', '860k', '364k',\n",
       "       '387k', '626k', '161k', '879k', '39k', '970k', '170k', '141k',\n",
       "       '160k', '144k', '143k', '190k', '376k', '193k', '246k', '73k',\n",
       "       '992k', '253k', '420k', '404k', '470k', '226k', '240k', '89k',\n",
       "       '234k', '257k', '861k', '467k', '157k', '44k', '676k', '67k',\n",
       "       '552k', '885k', '1020k', '582k', '619k'], dtype=object)"
      ]
     },
     "execution_count": 28,
     "metadata": {},
     "output_type": "execute_result"
    }
   ],
   "source": [
    "df['Size'].unique()"
   ]
  },
  {
   "cell_type": "code",
   "execution_count": 29,
   "id": "8fcaec13",
   "metadata": {},
   "outputs": [
    {
     "data": {
      "text/plain": [
       "dtype('O')"
      ]
     },
     "execution_count": 29,
     "metadata": {},
     "output_type": "execute_result"
    }
   ],
   "source": [
    "df['Size'].dtype"
   ]
  },
  {
   "cell_type": "code",
   "execution_count": 30,
   "id": "a15cab0d",
   "metadata": {},
   "outputs": [],
   "source": [
    "df['Size']=df['Size'].str.replace(\"M\",'000')\n",
    "df['Size']=df['Size'].str.replace(\"k\",'')"
   ]
  },
  {
   "cell_type": "code",
   "execution_count": 31,
   "id": "f7930dc8",
   "metadata": {},
   "outputs": [
    {
     "data": {
      "text/plain": [
       "array(['19000', '14000', '8.7000', '25000', '2.8000', '5.6000', '29000',\n",
       "       '33000', '3.1000', '28000', '12000', '20000', '21000', '37000',\n",
       "       '5.5000', '17000', '39000', '31000', '4.2000', '7.0000', '23000',\n",
       "       '6.0000', '6.1000', '4.6000', '9.2000', '5.2000', '11000', '24000',\n",
       "       'Varies with device', '9.4000', '15000', '10000', '1.2000',\n",
       "       '26000', '8.0000', '7.9000', '56000', '57000', '35000', '54000',\n",
       "       '201', '3.6000', '5.7000', '8.6000', '2.4000', '27000', '2.7000',\n",
       "       '2.5000', '16000', '3.4000', '8.9000', '3.9000', '2.9000', '38000',\n",
       "       '32000', '5.4000', '18000', '1.1000', '2.2000', '4.5000', '9.8000',\n",
       "       '52000', '9.0000', '6.7000', '30000', '2.6000', '7.1000', '3.7000',\n",
       "       '22000', '7.4000', '6.4000', '3.2000', '8.2000', '9.9000',\n",
       "       '4.9000', '9.5000', '5.0000', '5.9000', '13000', '73000', '6.8000',\n",
       "       '3.5000', '4.0000', '2.3000', '7.2000', '2.1000', '42000',\n",
       "       '7.3000', '9.1000', '55000', '23', '6.5000', '1.5000', '7.5000',\n",
       "       '51000', '41000', '48000', '8.5000', '46000', '8.3000', '4.3000',\n",
       "       '4.7000', '3.3000', '40000', '7.8000', '8.8000', '6.6000',\n",
       "       '5.1000', '61000', '66000', '79', '8.4000', '118', '44000', '695',\n",
       "       '1.6000', '6.2000', '18', '53000', '1.4000', '3.0000', '5.8000',\n",
       "       '3.8000', '9.6000', '45000', '63000', '49000', '77000', '4.4000',\n",
       "       '4.8000', '70000', '6.9000', '9.3000', '10.0000', '8.1000',\n",
       "       '36000', '84000', '97000', '2.0000', '1.9000', '1.8000', '5.3000',\n",
       "       '47000', '556', '526', '76000', '7.6000', '59000', '9.7000',\n",
       "       '78000', '72000', '43000', '7.7000', '6.3000', '334', '34000',\n",
       "       '93000', '65000', '79000', '100000', '58000', '50000', '68000',\n",
       "       '64000', '67000', '60000', '94000', '232', '99000', '624', '95000',\n",
       "       '8.5', '41', '292', '80000', '1.7000', '74000', '62000', '69000',\n",
       "       '75000', '98000', '85000', '82000', '96000', '87000', '71000',\n",
       "       '86000', '91000', '81000', '92000', '83000', '88000', '704', '862',\n",
       "       '899', '378', '266', '375', '1.3000', '975', '980', '4.1000',\n",
       "       '89000', '696', '544', '525', '920', '779', '853', '720', '713',\n",
       "       '772', '318', '58', '241', '196', '857', '51', '953', '865', '251',\n",
       "       '930', '540', '313', '746', '203', '26', '314', '239', '371',\n",
       "       '220', '730', '756', '91', '293', '17', '74', '14', '317', '78',\n",
       "       '924', '902', '818', '81', '939', '169', '45', '475', '965',\n",
       "       '90000', '545', '61', '283', '655', '714', '93', '872', '121',\n",
       "       '322', '1.0000', '976', '172', '238', '549', '206', '954', '444',\n",
       "       '717', '210', '609', '308', '705', '306', '904', '473', '175',\n",
       "       '350', '383', '454', '421', '70', '812', '442', '842', '417',\n",
       "       '412', '459', '478', '335', '782', '721', '430', '429', '192',\n",
       "       '200', '460', '728', '496', '816', '414', '506', '887', '613',\n",
       "       '243', '569', '778', '683', '592', '319', '186', '840', '647',\n",
       "       '191', '373', '437', '598', '716', '585', '982', '219', '55',\n",
       "       '948', '323', '691', '511', '951', '963', '25', '554', '351', '27',\n",
       "       '82', '208', '913', '514', '551', '29', '103', '898', '743', '116',\n",
       "       '153', '209', '353', '499', '173', '597', '809', '122', '411',\n",
       "       '400', '801', '787', '50', '643', '986', '97', '516', '837', '780',\n",
       "       '961', '269', '20', '498', '600', '749', '642', '881', '72', '656',\n",
       "       '601', '221', '228', '108', '940', '176', '33', '663', '34', '942',\n",
       "       '259', '164', '458', '245', '629', '28', '288', '775', '785',\n",
       "       '636', '916', '994', '309', '485', '914', '903', '608', '500',\n",
       "       '54', '562', '847', '957', '688', '811', '270', '48', '329', '523',\n",
       "       '921', '874', '981', '784', '280', '24', '518', '754', '892',\n",
       "       '154', '860', '364', '387', '626', '161', '879', '39', '970',\n",
       "       '170', '141', '160', '144', '143', '190', '376', '193', '246',\n",
       "       '73', '992', '253', '420', '404', '470', '226', '240', '89', '234',\n",
       "       '257', '861', '467', '157', '44', '676', '67', '552', '885',\n",
       "       '1020', '582', '619'], dtype=object)"
      ]
     },
     "execution_count": 31,
     "metadata": {},
     "output_type": "execute_result"
    }
   ],
   "source": [
    "df['Size'].unique()"
   ]
  },
  {
   "cell_type": "code",
   "execution_count": 32,
   "id": "8b4af930",
   "metadata": {},
   "outputs": [],
   "source": [
    "df['Size']=df['Size'].replace('Varies with device','NaN')"
   ]
  },
  {
   "cell_type": "code",
   "execution_count": 33,
   "id": "b9d3317e",
   "metadata": {},
   "outputs": [],
   "source": [
    "df['Size'].dropna(inplace=True)"
   ]
  },
  {
   "cell_type": "code",
   "execution_count": 34,
   "id": "7f6e08bd",
   "metadata": {},
   "outputs": [],
   "source": [
    "df['Size']=df['Size'].astype('float')"
   ]
  },
  {
   "cell_type": "code",
   "execution_count": 35,
   "id": "047ac6d6",
   "metadata": {},
   "outputs": [
    {
     "data": {
      "text/plain": [
       "dtype('float64')"
      ]
     },
     "execution_count": 35,
     "metadata": {},
     "output_type": "execute_result"
    }
   ],
   "source": [
    "df['Size'].dtype"
   ]
  },
  {
   "cell_type": "code",
   "execution_count": 36,
   "id": "ac603049",
   "metadata": {},
   "outputs": [
    {
     "data": {
      "text/plain": [
       "App                  0\n",
       "Category             0\n",
       "Rating               0\n",
       "Reviews              0\n",
       "Size              1525\n",
       "Installs             0\n",
       "Type                 0\n",
       "Price                0\n",
       "Content Rating       0\n",
       "Genres               0\n",
       "Last Updated         0\n",
       "Current Ver          0\n",
       "Android Ver          0\n",
       "dtype: int64"
      ]
     },
     "execution_count": 36,
     "metadata": {},
     "output_type": "execute_result"
    }
   ],
   "source": [
    "df.isnull().sum()"
   ]
  },
  {
   "cell_type": "code",
   "execution_count": 37,
   "id": "8817b4a4",
   "metadata": {},
   "outputs": [],
   "source": [
    "df.dropna(inplace=True)"
   ]
  },
  {
   "cell_type": "code",
   "execution_count": 38,
   "id": "fa700ee0",
   "metadata": {},
   "outputs": [
    {
     "data": {
      "text/html": [
       "<div>\n",
       "<style scoped>\n",
       "    .dataframe tbody tr th:only-of-type {\n",
       "        vertical-align: middle;\n",
       "    }\n",
       "\n",
       "    .dataframe tbody tr th {\n",
       "        vertical-align: top;\n",
       "    }\n",
       "\n",
       "    .dataframe thead th {\n",
       "        text-align: right;\n",
       "    }\n",
       "</style>\n",
       "<table border=\"1\" class=\"dataframe\">\n",
       "  <thead>\n",
       "    <tr style=\"text-align: right;\">\n",
       "      <th></th>\n",
       "      <th>App</th>\n",
       "      <th>Category</th>\n",
       "      <th>Rating</th>\n",
       "      <th>Reviews</th>\n",
       "      <th>Size</th>\n",
       "      <th>Installs</th>\n",
       "      <th>Type</th>\n",
       "      <th>Price</th>\n",
       "      <th>Content Rating</th>\n",
       "      <th>Genres</th>\n",
       "      <th>Last Updated</th>\n",
       "      <th>Current Ver</th>\n",
       "      <th>Android Ver</th>\n",
       "    </tr>\n",
       "  </thead>\n",
       "  <tbody>\n",
       "    <tr>\n",
       "      <th>0</th>\n",
       "      <td>Photo Editor &amp; Candy Camera &amp; Grid &amp; ScrapBook</td>\n",
       "      <td>ART_AND_DESIGN</td>\n",
       "      <td>4.1</td>\n",
       "      <td>159</td>\n",
       "      <td>19000.0</td>\n",
       "      <td>10,000+</td>\n",
       "      <td>Free</td>\n",
       "      <td>0</td>\n",
       "      <td>Everyone</td>\n",
       "      <td>Art &amp; Design</td>\n",
       "      <td>January 7, 2018</td>\n",
       "      <td>1.0.0</td>\n",
       "      <td>4.0.3 and up</td>\n",
       "    </tr>\n",
       "    <tr>\n",
       "      <th>1</th>\n",
       "      <td>Coloring book moana</td>\n",
       "      <td>ART_AND_DESIGN</td>\n",
       "      <td>3.9</td>\n",
       "      <td>967</td>\n",
       "      <td>14000.0</td>\n",
       "      <td>500,000+</td>\n",
       "      <td>Free</td>\n",
       "      <td>0</td>\n",
       "      <td>Everyone</td>\n",
       "      <td>Art &amp; Design;Pretend Play</td>\n",
       "      <td>January 15, 2018</td>\n",
       "      <td>2.0.0</td>\n",
       "      <td>4.0.3 and up</td>\n",
       "    </tr>\n",
       "  </tbody>\n",
       "</table>\n",
       "</div>"
      ],
      "text/plain": [
       "                                              App        Category  Rating  \\\n",
       "0  Photo Editor & Candy Camera & Grid & ScrapBook  ART_AND_DESIGN     4.1   \n",
       "1                             Coloring book moana  ART_AND_DESIGN     3.9   \n",
       "\n",
       "   Reviews     Size  Installs  Type Price Content Rating  \\\n",
       "0      159  19000.0   10,000+  Free     0       Everyone   \n",
       "1      967  14000.0  500,000+  Free     0       Everyone   \n",
       "\n",
       "                      Genres      Last Updated Current Ver   Android Ver  \n",
       "0               Art & Design   January 7, 2018       1.0.0  4.0.3 and up  \n",
       "1  Art & Design;Pretend Play  January 15, 2018       2.0.0  4.0.3 and up  "
      ]
     },
     "execution_count": 38,
     "metadata": {},
     "output_type": "execute_result"
    }
   ],
   "source": [
    "df.head(2)"
   ]
  },
  {
   "cell_type": "code",
   "execution_count": 39,
   "id": "b7221e03",
   "metadata": {},
   "outputs": [
    {
     "data": {
      "text/plain": [
       "array(['10,000+', '500,000+', '5,000,000+', '50,000,000+', '100,000+',\n",
       "       '50,000+', '1,000,000+', '10,000,000+', '5,000+', '100,000,000+',\n",
       "       '1,000+', '500,000,000+', '50+', '100+', '500+', '10+', '1+', '5+',\n",
       "       '1,000,000,000+', '0+'], dtype=object)"
      ]
     },
     "execution_count": 39,
     "metadata": {},
     "output_type": "execute_result"
    }
   ],
   "source": [
    "df['Installs'].unique()"
   ]
  },
  {
   "cell_type": "code",
   "execution_count": 40,
   "id": "e30cbabf",
   "metadata": {},
   "outputs": [
    {
     "name": "stderr",
     "output_type": "stream",
     "text": [
      "C:\\Users\\ashvi\\AppData\\Local\\Temp\\ipykernel_25332\\1732242343.py:1: FutureWarning: The default value of regex will change from True to False in a future version. In addition, single character regular expressions will *not* be treated as literal strings when regex=True.\n",
      "  df['Installs']=df['Installs'].str.replace(\"+\",'')\n"
     ]
    }
   ],
   "source": [
    "df['Installs']=df['Installs'].str.replace(\"+\",'')"
   ]
  },
  {
   "cell_type": "code",
   "execution_count": 41,
   "id": "c795c43d",
   "metadata": {},
   "outputs": [
    {
     "data": {
      "text/plain": [
       "array(['10,000', '500,000', '5,000,000', '50,000,000', '100,000',\n",
       "       '50,000', '1,000,000', '10,000,000', '5,000', '100,000,000',\n",
       "       '1,000', '500,000,000', '50', '100', '500', '10', '1', '5',\n",
       "       '1,000,000,000', '0'], dtype=object)"
      ]
     },
     "execution_count": 41,
     "metadata": {},
     "output_type": "execute_result"
    }
   ],
   "source": [
    "df[\"Installs\"].unique()"
   ]
  },
  {
   "cell_type": "code",
   "execution_count": 42,
   "id": "86310c51",
   "metadata": {},
   "outputs": [
    {
     "data": {
      "text/plain": [
       "dtype('O')"
      ]
     },
     "execution_count": 42,
     "metadata": {},
     "output_type": "execute_result"
    }
   ],
   "source": [
    "df['Installs'].dtype"
   ]
  },
  {
   "cell_type": "code",
   "execution_count": 43,
   "id": "d6dbea8c",
   "metadata": {},
   "outputs": [],
   "source": [
    "df['Installs']=df['Installs'].apply(lambda x:x.replace(',',''))"
   ]
  },
  {
   "cell_type": "code",
   "execution_count": 44,
   "id": "c2bd1905",
   "metadata": {},
   "outputs": [],
   "source": [
    "df['Installs']=df['Installs'].astype('float')"
   ]
  },
  {
   "cell_type": "code",
   "execution_count": 45,
   "id": "a926552f",
   "metadata": {},
   "outputs": [
    {
     "data": {
      "text/plain": [
       "dtype('float64')"
      ]
     },
     "execution_count": 45,
     "metadata": {},
     "output_type": "execute_result"
    }
   ],
   "source": [
    "df['Installs'].dtype"
   ]
  },
  {
   "cell_type": "code",
   "execution_count": 46,
   "id": "435cdf1f",
   "metadata": {},
   "outputs": [
    {
     "name": "stdout",
     "output_type": "stream",
     "text": [
      "<class 'pandas.core.frame.DataFrame'>\n",
      "Int64Index: 8821 entries, 0 to 10840\n",
      "Data columns (total 13 columns):\n",
      " #   Column          Non-Null Count  Dtype  \n",
      "---  ------          --------------  -----  \n",
      " 0   App             8821 non-null   object \n",
      " 1   Category        8821 non-null   object \n",
      " 2   Rating          8821 non-null   float64\n",
      " 3   Reviews         8821 non-null   int32  \n",
      " 4   Size            8821 non-null   float64\n",
      " 5   Installs        8821 non-null   float64\n",
      " 6   Type            8821 non-null   object \n",
      " 7   Price           8821 non-null   object \n",
      " 8   Content Rating  8821 non-null   object \n",
      " 9   Genres          8821 non-null   object \n",
      " 10  Last Updated    8821 non-null   object \n",
      " 11  Current Ver     8821 non-null   object \n",
      " 12  Android Ver     8821 non-null   object \n",
      "dtypes: float64(3), int32(1), object(9)\n",
      "memory usage: 930.3+ KB\n"
     ]
    }
   ],
   "source": [
    "df.info()"
   ]
  },
  {
   "cell_type": "code",
   "execution_count": 47,
   "id": "26177ec6",
   "metadata": {},
   "outputs": [
    {
     "data": {
      "text/html": [
       "<div>\n",
       "<style scoped>\n",
       "    .dataframe tbody tr th:only-of-type {\n",
       "        vertical-align: middle;\n",
       "    }\n",
       "\n",
       "    .dataframe tbody tr th {\n",
       "        vertical-align: top;\n",
       "    }\n",
       "\n",
       "    .dataframe thead th {\n",
       "        text-align: right;\n",
       "    }\n",
       "</style>\n",
       "<table border=\"1\" class=\"dataframe\">\n",
       "  <thead>\n",
       "    <tr style=\"text-align: right;\">\n",
       "      <th></th>\n",
       "      <th>App</th>\n",
       "      <th>Category</th>\n",
       "      <th>Rating</th>\n",
       "      <th>Reviews</th>\n",
       "      <th>Size</th>\n",
       "      <th>Installs</th>\n",
       "      <th>Type</th>\n",
       "      <th>Price</th>\n",
       "      <th>Content Rating</th>\n",
       "      <th>Genres</th>\n",
       "      <th>Last Updated</th>\n",
       "      <th>Current Ver</th>\n",
       "      <th>Android Ver</th>\n",
       "    </tr>\n",
       "  </thead>\n",
       "  <tbody>\n",
       "    <tr>\n",
       "      <th>0</th>\n",
       "      <td>Photo Editor &amp; Candy Camera &amp; Grid &amp; ScrapBook</td>\n",
       "      <td>ART_AND_DESIGN</td>\n",
       "      <td>4.1</td>\n",
       "      <td>159</td>\n",
       "      <td>19000.0</td>\n",
       "      <td>10000.0</td>\n",
       "      <td>Free</td>\n",
       "      <td>0</td>\n",
       "      <td>Everyone</td>\n",
       "      <td>Art &amp; Design</td>\n",
       "      <td>January 7, 2018</td>\n",
       "      <td>1.0.0</td>\n",
       "      <td>4.0.3 and up</td>\n",
       "    </tr>\n",
       "    <tr>\n",
       "      <th>1</th>\n",
       "      <td>Coloring book moana</td>\n",
       "      <td>ART_AND_DESIGN</td>\n",
       "      <td>3.9</td>\n",
       "      <td>967</td>\n",
       "      <td>14000.0</td>\n",
       "      <td>500000.0</td>\n",
       "      <td>Free</td>\n",
       "      <td>0</td>\n",
       "      <td>Everyone</td>\n",
       "      <td>Art &amp; Design;Pretend Play</td>\n",
       "      <td>January 15, 2018</td>\n",
       "      <td>2.0.0</td>\n",
       "      <td>4.0.3 and up</td>\n",
       "    </tr>\n",
       "  </tbody>\n",
       "</table>\n",
       "</div>"
      ],
      "text/plain": [
       "                                              App        Category  Rating  \\\n",
       "0  Photo Editor & Candy Camera & Grid & ScrapBook  ART_AND_DESIGN     4.1   \n",
       "1                             Coloring book moana  ART_AND_DESIGN     3.9   \n",
       "\n",
       "   Reviews     Size  Installs  Type Price Content Rating  \\\n",
       "0      159  19000.0   10000.0  Free     0       Everyone   \n",
       "1      967  14000.0  500000.0  Free     0       Everyone   \n",
       "\n",
       "                      Genres      Last Updated Current Ver   Android Ver  \n",
       "0               Art & Design   January 7, 2018       1.0.0  4.0.3 and up  \n",
       "1  Art & Design;Pretend Play  January 15, 2018       2.0.0  4.0.3 and up  "
      ]
     },
     "execution_count": 47,
     "metadata": {},
     "output_type": "execute_result"
    }
   ],
   "source": [
    "df.head(2)"
   ]
  },
  {
   "cell_type": "code",
   "execution_count": 48,
   "id": "8ac4d8f8",
   "metadata": {},
   "outputs": [
    {
     "data": {
      "text/plain": [
       "array(['0', '$4.99', '$6.99', '$1.49', '$2.99', '$3.99', '$7.99', '$5.99',\n",
       "       '$1.99', '$9.99', '$0.99', '$9.00', '$5.49', '$10.00', '$24.99',\n",
       "       '$11.99', '$79.99', '$16.99', '$14.99', '$1.00', '$29.99',\n",
       "       '$12.99', '$3.49', '$10.99', '$7.49', '$1.50', '$19.99', '$15.99',\n",
       "       '$33.99', '$74.99', '$39.99', '$2.49', '$4.49', '$1.70', '$2.00',\n",
       "       '$3.88', '$25.99', '$399.99', '$17.99', '$400.00', '$3.02',\n",
       "       '$1.76', '$4.84', '$4.77', '$1.61', '$1.59', '$6.49', '$1.29',\n",
       "       '$5.00', '$13.99', '$299.99', '$379.99', '$37.99', '$18.99',\n",
       "       '$389.99', '$19.90', '$8.49', '$1.75', '$14.00', '$4.85', '$46.99',\n",
       "       '$109.99', '$154.99', '$3.08', '$2.59', '$4.80', '$8.99', '$1.96',\n",
       "       '$19.40', '$15.46', '$3.04', '$4.29', '$2.60', '$3.28', '$4.60',\n",
       "       '$28.99', '$2.90', '$1.97', '$200.00', '$89.99', '$2.56', '$30.99',\n",
       "       '$3.61', '$394.99', '$1.26', '$1.20', '$1.04'], dtype=object)"
      ]
     },
     "execution_count": 48,
     "metadata": {},
     "output_type": "execute_result"
    }
   ],
   "source": [
    "df['Price'].unique()"
   ]
  },
  {
   "cell_type": "code",
   "execution_count": 49,
   "id": "df2bce2d",
   "metadata": {},
   "outputs": [],
   "source": [
    "df['Price']=df['Price'].apply(lambda x:x.replace('$',''))"
   ]
  },
  {
   "cell_type": "code",
   "execution_count": 50,
   "id": "000b578d",
   "metadata": {},
   "outputs": [],
   "source": [
    "df['Price']=df['Price'].astype('float')"
   ]
  },
  {
   "cell_type": "code",
   "execution_count": 51,
   "id": "ddaa8870",
   "metadata": {},
   "outputs": [
    {
     "data": {
      "text/plain": [
       "dtype('float64')"
      ]
     },
     "execution_count": 51,
     "metadata": {},
     "output_type": "execute_result"
    }
   ],
   "source": [
    "df['Price'].dtype"
   ]
  },
  {
   "cell_type": "code",
   "execution_count": 52,
   "id": "300fdfe3",
   "metadata": {},
   "outputs": [],
   "source": [
    "df['Last Updated']=pd.to_datetime(df['Last Updated'])"
   ]
  },
  {
   "cell_type": "code",
   "execution_count": 53,
   "id": "81b6c8bb",
   "metadata": {},
   "outputs": [
    {
     "data": {
      "text/html": [
       "<div>\n",
       "<style scoped>\n",
       "    .dataframe tbody tr th:only-of-type {\n",
       "        vertical-align: middle;\n",
       "    }\n",
       "\n",
       "    .dataframe tbody tr th {\n",
       "        vertical-align: top;\n",
       "    }\n",
       "\n",
       "    .dataframe thead th {\n",
       "        text-align: right;\n",
       "    }\n",
       "</style>\n",
       "<table border=\"1\" class=\"dataframe\">\n",
       "  <thead>\n",
       "    <tr style=\"text-align: right;\">\n",
       "      <th></th>\n",
       "      <th>App</th>\n",
       "      <th>Category</th>\n",
       "      <th>Rating</th>\n",
       "      <th>Reviews</th>\n",
       "      <th>Size</th>\n",
       "      <th>Installs</th>\n",
       "      <th>Type</th>\n",
       "      <th>Price</th>\n",
       "      <th>Content Rating</th>\n",
       "      <th>Genres</th>\n",
       "      <th>Last Updated</th>\n",
       "      <th>Current Ver</th>\n",
       "      <th>Android Ver</th>\n",
       "    </tr>\n",
       "  </thead>\n",
       "  <tbody>\n",
       "    <tr>\n",
       "      <th>0</th>\n",
       "      <td>Photo Editor &amp; Candy Camera &amp; Grid &amp; ScrapBook</td>\n",
       "      <td>ART_AND_DESIGN</td>\n",
       "      <td>4.1</td>\n",
       "      <td>159</td>\n",
       "      <td>19000.0</td>\n",
       "      <td>10000.0</td>\n",
       "      <td>Free</td>\n",
       "      <td>0.0</td>\n",
       "      <td>Everyone</td>\n",
       "      <td>Art &amp; Design</td>\n",
       "      <td>2018-01-07</td>\n",
       "      <td>1.0.0</td>\n",
       "      <td>4.0.3 and up</td>\n",
       "    </tr>\n",
       "    <tr>\n",
       "      <th>1</th>\n",
       "      <td>Coloring book moana</td>\n",
       "      <td>ART_AND_DESIGN</td>\n",
       "      <td>3.9</td>\n",
       "      <td>967</td>\n",
       "      <td>14000.0</td>\n",
       "      <td>500000.0</td>\n",
       "      <td>Free</td>\n",
       "      <td>0.0</td>\n",
       "      <td>Everyone</td>\n",
       "      <td>Art &amp; Design;Pretend Play</td>\n",
       "      <td>2018-01-15</td>\n",
       "      <td>2.0.0</td>\n",
       "      <td>4.0.3 and up</td>\n",
       "    </tr>\n",
       "  </tbody>\n",
       "</table>\n",
       "</div>"
      ],
      "text/plain": [
       "                                              App        Category  Rating  \\\n",
       "0  Photo Editor & Candy Camera & Grid & ScrapBook  ART_AND_DESIGN     4.1   \n",
       "1                             Coloring book moana  ART_AND_DESIGN     3.9   \n",
       "\n",
       "   Reviews     Size  Installs  Type  Price Content Rating  \\\n",
       "0      159  19000.0   10000.0  Free    0.0       Everyone   \n",
       "1      967  14000.0  500000.0  Free    0.0       Everyone   \n",
       "\n",
       "                      Genres Last Updated Current Ver   Android Ver  \n",
       "0               Art & Design   2018-01-07       1.0.0  4.0.3 and up  \n",
       "1  Art & Design;Pretend Play   2018-01-15       2.0.0  4.0.3 and up  "
      ]
     },
     "execution_count": 53,
     "metadata": {},
     "output_type": "execute_result"
    }
   ],
   "source": [
    "df.head(2)"
   ]
  },
  {
   "cell_type": "code",
   "execution_count": 54,
   "id": "ace78ce9",
   "metadata": {},
   "outputs": [
    {
     "name": "stdout",
     "output_type": "stream",
     "text": [
      "<class 'pandas.core.frame.DataFrame'>\n",
      "Int64Index: 8821 entries, 0 to 10840\n",
      "Data columns (total 13 columns):\n",
      " #   Column          Non-Null Count  Dtype         \n",
      "---  ------          --------------  -----         \n",
      " 0   App             8821 non-null   object        \n",
      " 1   Category        8821 non-null   object        \n",
      " 2   Rating          8821 non-null   float64       \n",
      " 3   Reviews         8821 non-null   int32         \n",
      " 4   Size            8821 non-null   float64       \n",
      " 5   Installs        8821 non-null   float64       \n",
      " 6   Type            8821 non-null   object        \n",
      " 7   Price           8821 non-null   float64       \n",
      " 8   Content Rating  8821 non-null   object        \n",
      " 9   Genres          8821 non-null   object        \n",
      " 10  Last Updated    8821 non-null   datetime64[ns]\n",
      " 11  Current Ver     8821 non-null   object        \n",
      " 12  Android Ver     8821 non-null   object        \n",
      "dtypes: datetime64[ns](1), float64(4), int32(1), object(7)\n",
      "memory usage: 930.3+ KB\n"
     ]
    }
   ],
   "source": [
    "df.info()"
   ]
  },
  {
   "cell_type": "code",
   "execution_count": 55,
   "id": "7e3a235c",
   "metadata": {},
   "outputs": [
    {
     "data": {
      "text/plain": [
       "App               0\n",
       "Category          0\n",
       "Rating            0\n",
       "Reviews           0\n",
       "Size              0\n",
       "Installs          0\n",
       "Type              0\n",
       "Price             0\n",
       "Content Rating    0\n",
       "Genres            0\n",
       "Last Updated      0\n",
       "Current Ver       0\n",
       "Android Ver       0\n",
       "dtype: int64"
      ]
     },
     "execution_count": 55,
     "metadata": {},
     "output_type": "execute_result"
    }
   ],
   "source": [
    "df.isnull().sum()"
   ]
  },
  {
   "cell_type": "code",
   "execution_count": 56,
   "id": "ef560c21",
   "metadata": {},
   "outputs": [
    {
     "data": {
      "text/plain": [
       "(8821, 13)"
      ]
     },
     "execution_count": 56,
     "metadata": {},
     "output_type": "execute_result"
    }
   ],
   "source": [
    "df.shape"
   ]
  },
  {
   "cell_type": "code",
   "execution_count": 57,
   "id": "6bc8b629",
   "metadata": {},
   "outputs": [],
   "source": [
    "import seaborn as sns"
   ]
  },
  {
   "cell_type": "code",
   "execution_count": 58,
   "id": "c357f6f8",
   "metadata": {},
   "outputs": [
    {
     "data": {
      "text/plain": [
       "['Rating', 'Reviews', 'Size', 'Installs', 'Price', 'Last Updated']"
      ]
     },
     "execution_count": 58,
     "metadata": {},
     "output_type": "execute_result"
    }
   ],
   "source": [
    "num=[]\n",
    "for i in df.columns:\n",
    "    if df[i].dtype !='O':\n",
    "        num.append(i)\n",
    "num"
   ]
  },
  {
   "cell_type": "code",
   "execution_count": 59,
   "id": "873c23ad",
   "metadata": {},
   "outputs": [
    {
     "data": {
      "image/png": "[encoded data removed]",
      "text/plain": [
       "<Figure size 1080x1080 with 6 Axes>"
      ]
     },
     "metadata": {
      "needs_background": "light"
     },
     "output_type": "display_data"
    }
   ],
   "source": [
    "plt.figure(figsize=(15,15))\n",
    "for i in range(0,len(num)):\n",
    "    plt.subplot(5,3,i+1)\n",
    "    sns.kdeplot(x=df[num[i]],shade=True,color='r')\n",
    "    plt.xlabel(num[i])\n",
    "    plt.ylabel(\"count\")\n",
    "    plt.tight_layout()"
   ]
  },
  {
   "cell_type": "code",
   "execution_count": 60,
   "id": "7a7fa828",
   "metadata": {},
   "outputs": [
    {
     "data": {
      "text/plain": [
       "['App',\n",
       " 'Category',\n",
       " 'Type',\n",
       " 'Content Rating',\n",
       " 'Genres',\n",
       " 'Current Ver',\n",
       " 'Android Ver']"
      ]
     },
     "execution_count": 60,
     "metadata": {},
     "output_type": "execute_result"
    }
   ],
   "source": [
    "cat=[]\n",
    "for i in df.columns:\n",
    "    if df[i].dtype =='O':\n",
    "        cat.append(i)\n",
    "cat"
   ]
  },
  {
   "cell_type": "code",
   "execution_count": 61,
   "id": "fd1957d1",
   "metadata": {},
   "outputs": [
    {
     "data": {
      "text/plain": [
       "Free    8133\n",
       "Paid     688\n",
       "Name: Type, dtype: int64"
      ]
     },
     "execution_count": 61,
     "metadata": {},
     "output_type": "execute_result"
    }
   ],
   "source": [
    "df['Type'].value_counts()"
   ]
  },
  {
   "cell_type": "code",
   "execution_count": 62,
   "id": "dc2e353a",
   "metadata": {},
   "outputs": [
    {
     "name": "stderr",
     "output_type": "stream",
     "text": [
      "C:\\Users\\ashvi\\anaconda3\\lib\\site-packages\\seaborn\\_decorators.py:36: FutureWarning: Pass the following variable as a keyword arg: x. From version 0.12, the only valid positional argument will be `data`, and passing other arguments without an explicit keyword will result in an error or misinterpretation.\n",
      "  warnings.warn(\n"
     ]
    },
    {
     "data": {
      "image/png": "[encoded data removed]",
      "text/plain": [
       "<Figure size 432x288 with 1 Axes>"
      ]
     },
     "metadata": {
      "needs_background": "light"
     },
     "output_type": "display_data"
    }
   ],
   "source": [
    "sns.countplot(df['Type'])\n",
    "plt.show()"
   ]
  },
  {
   "cell_type": "code",
   "execution_count": 63,
   "id": "1626f2d0",
   "metadata": {},
   "outputs": [],
   "source": [
    "category=df['Category'].value_counts().head(10)"
   ]
  },
  {
   "cell_type": "code",
   "execution_count": 64,
   "id": "ff0b9a0b",
   "metadata": {},
   "outputs": [
    {
     "data": {
      "text/plain": [
       "FAMILY             1803\n",
       "GAME               1000\n",
       "TOOLS               737\n",
       "MEDICAL             380\n",
       "BUSINESS            379\n",
       "PERSONALIZATION     352\n",
       "LIFESTYLE           338\n",
       "FINANCE             304\n",
       "PRODUCTIVITY        299\n",
       "SPORTS              296\n",
       "Name: Category, dtype: int64"
      ]
     },
     "execution_count": 64,
     "metadata": {},
     "output_type": "execute_result"
    }
   ],
   "source": [
    "category"
   ]
  },
  {
   "cell_type": "code",
   "execution_count": 65,
   "id": "09460940",
   "metadata": {},
   "outputs": [
    {
     "data": {
      "image/png": "[encoded data removed]",
      "text/plain": [
       "<Figure size 720x432 with 1 Axes>"
      ]
     },
     "metadata": {
      "needs_background": "light"
     },
     "output_type": "display_data"
    }
   ],
   "source": [
    "plt.figure(figsize=(10,6))\n",
    "category.plot(kind='bar')\n",
    "plt.show()"
   ]
  },
  {
   "cell_type": "code",
   "execution_count": 66,
   "id": "c02463c1",
   "metadata": {},
   "outputs": [
    {
     "data": {
      "image/png": "[encoded data removed]",
      "text/plain": [
       "<Figure size 900x900 with 30 Axes>"
      ]
     },
     "metadata": {
      "needs_background": "light"
     },
     "output_type": "display_data"
    }
   ],
   "source": [
    "sns.pairplot(df)\n",
    "plt.show()"
   ]
  },
  {
   "cell_type": "markdown",
   "id": "66ce2ba8",
   "metadata": {},
   "source": [
    "\n",
    "\n",
    "encoder=LabelEncoder()\n",
    "for i in obj:\n",
    "    df[i]=encoder.fit_transform(df[i])"
   ]
  },
  {
   "cell_type": "code",
   "execution_count": 68,
   "id": "d4755cf8",
   "metadata": {},
   "outputs": [
    {
     "data": {
      "text/html": [
       "<div>\n",
       "<style scoped>\n",
       "    .dataframe tbody tr th:only-of-type {\n",
       "        vertical-align: middle;\n",
       "    }\n",
       "\n",
       "    .dataframe tbody tr th {\n",
       "        vertical-align: top;\n",
       "    }\n",
       "\n",
       "    .dataframe thead th {\n",
       "        text-align: right;\n",
       "    }\n",
       "</style>\n",
       "<table border=\"1\" class=\"dataframe\">\n",
       "  <thead>\n",
       "    <tr style=\"text-align: right;\">\n",
       "      <th></th>\n",
       "      <th>App</th>\n",
       "      <th>Category</th>\n",
       "      <th>Rating</th>\n",
       "      <th>Reviews</th>\n",
       "      <th>Size</th>\n",
       "      <th>Installs</th>\n",
       "      <th>Type</th>\n",
       "      <th>Price</th>\n",
       "      <th>Content Rating</th>\n",
       "      <th>Genres</th>\n",
       "      <th>Last Updated</th>\n",
       "      <th>Current Ver</th>\n",
       "      <th>Android Ver</th>\n",
       "    </tr>\n",
       "  </thead>\n",
       "  <tbody>\n",
       "    <tr>\n",
       "      <th>0</th>\n",
       "      <td>Photo Editor &amp; Candy Camera &amp; Grid &amp; ScrapBook</td>\n",
       "      <td>ART_AND_DESIGN</td>\n",
       "      <td>4.1</td>\n",
       "      <td>159</td>\n",
       "      <td>19000.0</td>\n",
       "      <td>10000.0</td>\n",
       "      <td>Free</td>\n",
       "      <td>0.0</td>\n",
       "      <td>Everyone</td>\n",
       "      <td>Art &amp; Design</td>\n",
       "      <td>2018-01-07</td>\n",
       "      <td>1.0.0</td>\n",
       "      <td>4.0.3 and up</td>\n",
       "    </tr>\n",
       "    <tr>\n",
       "      <th>1</th>\n",
       "      <td>Coloring book moana</td>\n",
       "      <td>ART_AND_DESIGN</td>\n",
       "      <td>3.9</td>\n",
       "      <td>967</td>\n",
       "      <td>14000.0</td>\n",
       "      <td>500000.0</td>\n",
       "      <td>Free</td>\n",
       "      <td>0.0</td>\n",
       "      <td>Everyone</td>\n",
       "      <td>Art &amp; Design;Pretend Play</td>\n",
       "      <td>2018-01-15</td>\n",
       "      <td>2.0.0</td>\n",
       "      <td>4.0.3 and up</td>\n",
       "    </tr>\n",
       "  </tbody>\n",
       "</table>\n",
       "</div>"
      ],
      "text/plain": [
       "                                              App        Category  Rating  \\\n",
       "0  Photo Editor & Candy Camera & Grid & ScrapBook  ART_AND_DESIGN     4.1   \n",
       "1                             Coloring book moana  ART_AND_DESIGN     3.9   \n",
       "\n",
       "   Reviews     Size  Installs  Type  Price Content Rating  \\\n",
       "0      159  19000.0   10000.0  Free    0.0       Everyone   \n",
       "1      967  14000.0  500000.0  Free    0.0       Everyone   \n",
       "\n",
       "                      Genres Last Updated Current Ver   Android Ver  \n",
       "0               Art & Design   2018-01-07       1.0.0  4.0.3 and up  \n",
       "1  Art & Design;Pretend Play   2018-01-15       2.0.0  4.0.3 and up  "
      ]
     },
     "execution_count": 68,
     "metadata": {},
     "output_type": "execute_result"
    }
   ],
   "source": [
    "df.head(2)"
   ]
  },
  {
   "cell_type": "code",
   "execution_count": 69,
   "id": "d86bc7c0",
   "metadata": {},
   "outputs": [
    {
     "data": {
      "text/plain": [
       "<AxesSubplot:>"
      ]
     },
     "execution_count": 69,
     "metadata": {},
     "output_type": "execute_result"
    },
    {
     "data": {
      "image/png": "[encoded data removed]",
      "text/plain": [
       "<Figure size 720x576 with 2 Axes>"
      ]
     },
     "metadata": {
      "needs_background": "light"
     },
     "output_type": "display_data"
    }
   ],
   "source": [
    "plt.figure(figsize=(10,8))\n",
    "sns.heatmap(df.corr(),annot=True)"
   ]
  },
  {
   "cell_type": "code",
   "execution_count": 70,
   "id": "9f883d38",
   "metadata": {},
   "outputs": [
    {
     "data": {
      "text/plain": [
       "1000000000.0"
      ]
     },
     "execution_count": 70,
     "metadata": {},
     "output_type": "execute_result"
    }
   ],
   "source": [
    "df['Installs'].max()"
   ]
  },
  {
   "cell_type": "code",
   "execution_count": 71,
   "id": "dfe561e4",
   "metadata": {},
   "outputs": [
    {
     "data": {
      "text/html": [
       "<div>\n",
       "<style scoped>\n",
       "    .dataframe tbody tr th:only-of-type {\n",
       "        vertical-align: middle;\n",
       "    }\n",
       "\n",
       "    .dataframe tbody tr th {\n",
       "        vertical-align: top;\n",
       "    }\n",
       "\n",
       "    .dataframe thead th {\n",
       "        text-align: right;\n",
       "    }\n",
       "</style>\n",
       "<table border=\"1\" class=\"dataframe\">\n",
       "  <thead>\n",
       "    <tr style=\"text-align: right;\">\n",
       "      <th></th>\n",
       "      <th>App</th>\n",
       "      <th>Category</th>\n",
       "      <th>Rating</th>\n",
       "      <th>Reviews</th>\n",
       "      <th>Size</th>\n",
       "      <th>Installs</th>\n",
       "      <th>Type</th>\n",
       "      <th>Price</th>\n",
       "      <th>Content Rating</th>\n",
       "      <th>Genres</th>\n",
       "      <th>Last Updated</th>\n",
       "      <th>Current Ver</th>\n",
       "      <th>Android Ver</th>\n",
       "    </tr>\n",
       "  </thead>\n",
       "  <tbody>\n",
       "    <tr>\n",
       "      <th>1654</th>\n",
       "      <td>Subway Surfers</td>\n",
       "      <td>GAME</td>\n",
       "      <td>4.5</td>\n",
       "      <td>27722264</td>\n",
       "      <td>76000.0</td>\n",
       "      <td>1.000000e+09</td>\n",
       "      <td>Free</td>\n",
       "      <td>0.0</td>\n",
       "      <td>Everyone 10+</td>\n",
       "      <td>Arcade</td>\n",
       "      <td>2018-07-12</td>\n",
       "      <td>1.90.0</td>\n",
       "      <td>4.1 and up</td>\n",
       "    </tr>\n",
       "    <tr>\n",
       "      <th>1700</th>\n",
       "      <td>Subway Surfers</td>\n",
       "      <td>GAME</td>\n",
       "      <td>4.5</td>\n",
       "      <td>27723193</td>\n",
       "      <td>76000.0</td>\n",
       "      <td>1.000000e+09</td>\n",
       "      <td>Free</td>\n",
       "      <td>0.0</td>\n",
       "      <td>Everyone 10+</td>\n",
       "      <td>Arcade</td>\n",
       "      <td>2018-07-12</td>\n",
       "      <td>1.90.0</td>\n",
       "      <td>4.1 and up</td>\n",
       "    </tr>\n",
       "    <tr>\n",
       "      <th>1750</th>\n",
       "      <td>Subway Surfers</td>\n",
       "      <td>GAME</td>\n",
       "      <td>4.5</td>\n",
       "      <td>27724094</td>\n",
       "      <td>76000.0</td>\n",
       "      <td>1.000000e+09</td>\n",
       "      <td>Free</td>\n",
       "      <td>0.0</td>\n",
       "      <td>Everyone 10+</td>\n",
       "      <td>Arcade</td>\n",
       "      <td>2018-07-12</td>\n",
       "      <td>1.90.0</td>\n",
       "      <td>4.1 and up</td>\n",
       "    </tr>\n",
       "    <tr>\n",
       "      <th>1872</th>\n",
       "      <td>Subway Surfers</td>\n",
       "      <td>GAME</td>\n",
       "      <td>4.5</td>\n",
       "      <td>27725352</td>\n",
       "      <td>76000.0</td>\n",
       "      <td>1.000000e+09</td>\n",
       "      <td>Free</td>\n",
       "      <td>0.0</td>\n",
       "      <td>Everyone 10+</td>\n",
       "      <td>Arcade</td>\n",
       "      <td>2018-07-12</td>\n",
       "      <td>1.90.0</td>\n",
       "      <td>4.1 and up</td>\n",
       "    </tr>\n",
       "    <tr>\n",
       "      <th>3736</th>\n",
       "      <td>Google News</td>\n",
       "      <td>NEWS_AND_MAGAZINES</td>\n",
       "      <td>3.9</td>\n",
       "      <td>877635</td>\n",
       "      <td>13000.0</td>\n",
       "      <td>1.000000e+09</td>\n",
       "      <td>Free</td>\n",
       "      <td>0.0</td>\n",
       "      <td>Teen</td>\n",
       "      <td>News &amp; Magazines</td>\n",
       "      <td>2018-08-01</td>\n",
       "      <td>5.2.0</td>\n",
       "      <td>4.4 and up</td>\n",
       "    </tr>\n",
       "    <tr>\n",
       "      <th>3816</th>\n",
       "      <td>Google News</td>\n",
       "      <td>NEWS_AND_MAGAZINES</td>\n",
       "      <td>3.9</td>\n",
       "      <td>877643</td>\n",
       "      <td>13000.0</td>\n",
       "      <td>1.000000e+09</td>\n",
       "      <td>Free</td>\n",
       "      <td>0.0</td>\n",
       "      <td>Teen</td>\n",
       "      <td>News &amp; Magazines</td>\n",
       "      <td>2018-08-01</td>\n",
       "      <td>5.2.0</td>\n",
       "      <td>4.4 and up</td>\n",
       "    </tr>\n",
       "    <tr>\n",
       "      <th>3896</th>\n",
       "      <td>Subway Surfers</td>\n",
       "      <td>GAME</td>\n",
       "      <td>4.5</td>\n",
       "      <td>27711703</td>\n",
       "      <td>76000.0</td>\n",
       "      <td>1.000000e+09</td>\n",
       "      <td>Free</td>\n",
       "      <td>0.0</td>\n",
       "      <td>Everyone 10+</td>\n",
       "      <td>Arcade</td>\n",
       "      <td>2018-07-12</td>\n",
       "      <td>1.90.0</td>\n",
       "      <td>4.1 and up</td>\n",
       "    </tr>\n",
       "    <tr>\n",
       "      <th>9844</th>\n",
       "      <td>Google News</td>\n",
       "      <td>NEWS_AND_MAGAZINES</td>\n",
       "      <td>3.9</td>\n",
       "      <td>878065</td>\n",
       "      <td>13000.0</td>\n",
       "      <td>1.000000e+09</td>\n",
       "      <td>Free</td>\n",
       "      <td>0.0</td>\n",
       "      <td>Teen</td>\n",
       "      <td>News &amp; Magazines</td>\n",
       "      <td>2018-08-01</td>\n",
       "      <td>5.2.0</td>\n",
       "      <td>4.4 and up</td>\n",
       "    </tr>\n",
       "  </tbody>\n",
       "</table>\n",
       "</div>"
      ],
      "text/plain": [
       "                 App            Category  Rating   Reviews     Size  \\\n",
       "1654  Subway Surfers                GAME     4.5  27722264  76000.0   \n",
       "1700  Subway Surfers                GAME     4.5  27723193  76000.0   \n",
       "1750  Subway Surfers                GAME     4.5  27724094  76000.0   \n",
       "1872  Subway Surfers                GAME     4.5  27725352  76000.0   \n",
       "3736     Google News  NEWS_AND_MAGAZINES     3.9    877635  13000.0   \n",
       "3816     Google News  NEWS_AND_MAGAZINES     3.9    877643  13000.0   \n",
       "3896  Subway Surfers                GAME     4.5  27711703  76000.0   \n",
       "9844     Google News  NEWS_AND_MAGAZINES     3.9    878065  13000.0   \n",
       "\n",
       "          Installs  Type  Price Content Rating            Genres Last Updated  \\\n",
       "1654  1.000000e+09  Free    0.0   Everyone 10+            Arcade   2018-07-12   \n",
       "1700  1.000000e+09  Free    0.0   Everyone 10+            Arcade   2018-07-12   \n",
       "1750  1.000000e+09  Free    0.0   Everyone 10+            Arcade   2018-07-12   \n",
       "1872  1.000000e+09  Free    0.0   Everyone 10+            Arcade   2018-07-12   \n",
       "3736  1.000000e+09  Free    0.0           Teen  News & Magazines   2018-08-01   \n",
       "3816  1.000000e+09  Free    0.0           Teen  News & Magazines   2018-08-01   \n",
       "3896  1.000000e+09  Free    0.0   Everyone 10+            Arcade   2018-07-12   \n",
       "9844  1.000000e+09  Free    0.0           Teen  News & Magazines   2018-08-01   \n",
       "\n",
       "     Current Ver Android Ver  \n",
       "1654      1.90.0  4.1 and up  \n",
       "1700      1.90.0  4.1 and up  \n",
       "1750      1.90.0  4.1 and up  \n",
       "1872      1.90.0  4.1 and up  \n",
       "3736       5.2.0  4.4 and up  \n",
       "3816       5.2.0  4.4 and up  \n",
       "3896      1.90.0  4.1 and up  \n",
       "9844       5.2.0  4.4 and up  "
      ]
     },
     "execution_count": 71,
     "metadata": {},
     "output_type": "execute_result"
    }
   ],
   "source": [
    "df[df['Installs']==df['Installs'].max()]"
   ]
  },
  {
   "cell_type": "code",
   "execution_count": 72,
   "id": "0ff5c750",
   "metadata": {},
   "outputs": [],
   "source": [
    "Cate_install=df.groupby(['Category'])['Installs'].sum().sort_values()"
   ]
  },
  {
   "cell_type": "code",
   "execution_count": 73,
   "id": "2d4076b6",
   "metadata": {},
   "outputs": [
    {
     "data": {
      "text/plain": [
       "Category\n",
       "EVENTS                 1.067215e+07\n",
       "BEAUTY                 1.369695e+07\n",
       "COMICS                 1.758615e+07\n",
       "PARENTING              2.397101e+07\n",
       "MEDICAL                3.550062e+07\n",
       "AUTO_AND_VEHICLES      4.377021e+07\n",
       "HOUSE_AND_HOME         5.161246e+07\n",
       "LIBRARIES_AND_DEMO     6.089591e+07\n",
       "ART_AND_DESIGN         9.933310e+07\n",
       "DATING                 1.052061e+08\n",
       "BOOKS_AND_REFERENCE    1.349611e+08\n",
       "WEATHER                1.393000e+08\n",
       "FOOD_AND_DRINK         1.716887e+08\n",
       "MAPS_AND_NAVIGATION    1.750299e+08\n",
       "EDUCATION              2.083020e+08\n",
       "TRAVEL_AND_LOCAL       2.606661e+08\n",
       "FINANCE                3.166235e+08\n",
       "LIFESTYLE              4.356008e+08\n",
       "BUSINESS               4.919286e+08\n",
       "ENTERTAINMENT          7.489600e+08\n",
       "SOCIAL                 7.942648e+08\n",
       "HEALTH_AND_FITNESS     8.034619e+08\n",
       "VIDEO_PLAYERS          8.918677e+08\n",
       "PERSONALIZATION        9.971688e+08\n",
       "SPORTS                 1.062449e+09\n",
       "SHOPPING               1.312749e+09\n",
       "PHOTOGRAPHY            2.390898e+09\n",
       "PRODUCTIVITY           2.711313e+09\n",
       "NEWS_AND_MAGAZINES     3.215006e+09\n",
       "COMMUNICATION          3.336943e+09\n",
       "TOOLS                  3.526595e+09\n",
       "FAMILY                 6.697162e+09\n",
       "GAME                   2.680256e+10\n",
       "Name: Installs, dtype: float64"
      ]
     },
     "execution_count": 73,
     "metadata": {},
     "output_type": "execute_result"
    }
   ],
   "source": [
    "Cate_install"
   ]
  },
  {
   "cell_type": "code",
   "execution_count": 74,
   "id": "9b83d7c9",
   "metadata": {},
   "outputs": [
    {
     "data": {
      "text/plain": [
       "<AxesSubplot:ylabel='Installs'>"
      ]
     },
     "execution_count": 74,
     "metadata": {},
     "output_type": "execute_result"
    },
    {
     "data": {
      "image/png": "[encoded data removed]",
      "text/plain": [
       "<Figure size 432x288 with 1 Axes>"
      ]
     },
     "metadata": {},
     "output_type": "display_data"
    }
   ],
   "source": [
    "Cate_install.nlargest(5).plot.pie()"
   ]
  },
  {
   "cell_type": "code",
   "execution_count": 75,
   "id": "536b71e0",
   "metadata": {},
   "outputs": [
    {
     "data": {
      "text/plain": [
       "<AxesSubplot:ylabel='Installs'>"
      ]
     },
     "execution_count": 75,
     "metadata": {},
     "output_type": "execute_result"
    },
    {
     "data": {
      "image/png": "[encoded data removed]",
      "text/plain": [
       "<Figure size 432x288 with 1 Axes>"
      ]
     },
     "metadata": {},
     "output_type": "display_data"
    }
   ],
   "source": [
    "Cate_install.nsmallest(5).plot.pie()"
   ]
  },
  {
   "cell_type": "markdown",
   "id": "faf0f7bf",
   "metadata": {},
   "source": [
    "# Checking how many apps are getting 5 star ratings"
   ]
  },
  {
   "cell_type": "code",
   "execution_count": 76,
   "id": "792f3fec",
   "metadata": {},
   "outputs": [
    {
     "data": {
      "text/plain": [
       "array([4.1       , 3.9       , 4.7       , 4.5       , 4.3       ,\n",
       "       4.4       , 3.8       , 4.2       , 4.6       , 4.        ,\n",
       "       4.19333832, 4.8       , 4.9       , 3.6       , 3.7       ,\n",
       "       3.2       , 3.3       , 3.4       , 3.5       , 3.1       ,\n",
       "       5.        , 2.6       , 3.        , 1.9       , 2.5       ,\n",
       "       2.8       , 2.7       , 1.        , 2.9       , 2.3       ,\n",
       "       2.2       , 1.7       , 2.        , 1.8       , 2.4       ,\n",
       "       1.6       , 2.1       , 1.4       , 1.5       , 1.2       ])"
      ]
     },
     "execution_count": 76,
     "metadata": {},
     "output_type": "execute_result"
    }
   ],
   "source": [
    "df['Rating'].unique()"
   ]
  },
  {
   "cell_type": "code",
   "execution_count": 77,
   "id": "429ff382",
   "metadata": {},
   "outputs": [
    {
     "data": {
      "text/html": [
       "<div>\n",
       "<style scoped>\n",
       "    .dataframe tbody tr th:only-of-type {\n",
       "        vertical-align: middle;\n",
       "    }\n",
       "\n",
       "    .dataframe tbody tr th {\n",
       "        vertical-align: top;\n",
       "    }\n",
       "\n",
       "    .dataframe thead th {\n",
       "        text-align: right;\n",
       "    }\n",
       "</style>\n",
       "<table border=\"1\" class=\"dataframe\">\n",
       "  <thead>\n",
       "    <tr style=\"text-align: right;\">\n",
       "      <th></th>\n",
       "      <th>App</th>\n",
       "      <th>Category</th>\n",
       "      <th>Rating</th>\n",
       "      <th>Reviews</th>\n",
       "      <th>Size</th>\n",
       "      <th>Installs</th>\n",
       "      <th>Type</th>\n",
       "      <th>Price</th>\n",
       "      <th>Content Rating</th>\n",
       "      <th>Genres</th>\n",
       "      <th>Last Updated</th>\n",
       "      <th>Current Ver</th>\n",
       "      <th>Android Ver</th>\n",
       "    </tr>\n",
       "  </thead>\n",
       "  <tbody>\n",
       "    <tr>\n",
       "      <th>329</th>\n",
       "      <td>Hojiboy Tojiboyev Life Hacks</td>\n",
       "      <td>COMICS</td>\n",
       "      <td>5.0</td>\n",
       "      <td>15</td>\n",
       "      <td>37000.0</td>\n",
       "      <td>1000.0</td>\n",
       "      <td>Free</td>\n",
       "      <td>0.0</td>\n",
       "      <td>Everyone</td>\n",
       "      <td>Comics</td>\n",
       "      <td>2018-06-26</td>\n",
       "      <td>2.0</td>\n",
       "      <td>4.0.3 and up</td>\n",
       "    </tr>\n",
       "    <tr>\n",
       "      <th>612</th>\n",
       "      <td>American Girls Mobile Numbers</td>\n",
       "      <td>DATING</td>\n",
       "      <td>5.0</td>\n",
       "      <td>5</td>\n",
       "      <td>4.4</td>\n",
       "      <td>1000.0</td>\n",
       "      <td>Free</td>\n",
       "      <td>0.0</td>\n",
       "      <td>Mature 17+</td>\n",
       "      <td>Dating</td>\n",
       "      <td>2018-07-17</td>\n",
       "      <td>3.0</td>\n",
       "      <td>4.0.3 and up</td>\n",
       "    </tr>\n",
       "    <tr>\n",
       "      <th>615</th>\n",
       "      <td>Awake Dating</td>\n",
       "      <td>DATING</td>\n",
       "      <td>5.0</td>\n",
       "      <td>2</td>\n",
       "      <td>70000.0</td>\n",
       "      <td>100.0</td>\n",
       "      <td>Free</td>\n",
       "      <td>0.0</td>\n",
       "      <td>Mature 17+</td>\n",
       "      <td>Dating</td>\n",
       "      <td>2018-07-24</td>\n",
       "      <td>2.2.9</td>\n",
       "      <td>4.4 and up</td>\n",
       "    </tr>\n",
       "    <tr>\n",
       "      <th>633</th>\n",
       "      <td>Spine- The dating app</td>\n",
       "      <td>DATING</td>\n",
       "      <td>5.0</td>\n",
       "      <td>5</td>\n",
       "      <td>9.3</td>\n",
       "      <td>500.0</td>\n",
       "      <td>Free</td>\n",
       "      <td>0.0</td>\n",
       "      <td>Teen</td>\n",
       "      <td>Dating</td>\n",
       "      <td>2018-07-14</td>\n",
       "      <td>4.0</td>\n",
       "      <td>4.0.3 and up</td>\n",
       "    </tr>\n",
       "    <tr>\n",
       "      <th>636</th>\n",
       "      <td>Girls Live Talk - Free Text and Video Chat</td>\n",
       "      <td>DATING</td>\n",
       "      <td>5.0</td>\n",
       "      <td>6</td>\n",
       "      <td>5.0</td>\n",
       "      <td>100.0</td>\n",
       "      <td>Free</td>\n",
       "      <td>0.0</td>\n",
       "      <td>Mature 17+</td>\n",
       "      <td>Dating</td>\n",
       "      <td>2018-08-01</td>\n",
       "      <td>8.2</td>\n",
       "      <td>4.0.3 and up</td>\n",
       "    </tr>\n",
       "    <tr>\n",
       "      <th>...</th>\n",
       "      <td>...</td>\n",
       "      <td>...</td>\n",
       "      <td>...</td>\n",
       "      <td>...</td>\n",
       "      <td>...</td>\n",
       "      <td>...</td>\n",
       "      <td>...</td>\n",
       "      <td>...</td>\n",
       "      <td>...</td>\n",
       "      <td>...</td>\n",
       "      <td>...</td>\n",
       "      <td>...</td>\n",
       "      <td>...</td>\n",
       "    </tr>\n",
       "    <tr>\n",
       "      <th>10721</th>\n",
       "      <td>Mad Dash Fo' Cash</td>\n",
       "      <td>GAME</td>\n",
       "      <td>5.0</td>\n",
       "      <td>14</td>\n",
       "      <td>16000.0</td>\n",
       "      <td>100.0</td>\n",
       "      <td>Free</td>\n",
       "      <td>0.0</td>\n",
       "      <td>Everyone</td>\n",
       "      <td>Arcade</td>\n",
       "      <td>2017-06-19</td>\n",
       "      <td>2.5a</td>\n",
       "      <td>4.1 and up</td>\n",
       "    </tr>\n",
       "    <tr>\n",
       "      <th>10742</th>\n",
       "      <td>GKPB FP Online Church</td>\n",
       "      <td>LIFESTYLE</td>\n",
       "      <td>5.0</td>\n",
       "      <td>32</td>\n",
       "      <td>7.9</td>\n",
       "      <td>1000.0</td>\n",
       "      <td>Free</td>\n",
       "      <td>0.0</td>\n",
       "      <td>Everyone</td>\n",
       "      <td>Lifestyle</td>\n",
       "      <td>2017-12-31</td>\n",
       "      <td>0.7.1</td>\n",
       "      <td>4.4 and up</td>\n",
       "    </tr>\n",
       "    <tr>\n",
       "      <th>10776</th>\n",
       "      <td>Monster Ride Pro</td>\n",
       "      <td>GAME</td>\n",
       "      <td>5.0</td>\n",
       "      <td>1</td>\n",
       "      <td>24000.0</td>\n",
       "      <td>10.0</td>\n",
       "      <td>Free</td>\n",
       "      <td>0.0</td>\n",
       "      <td>Everyone</td>\n",
       "      <td>Racing</td>\n",
       "      <td>2018-03-05</td>\n",
       "      <td>2.0</td>\n",
       "      <td>2.3 and up</td>\n",
       "    </tr>\n",
       "    <tr>\n",
       "      <th>10820</th>\n",
       "      <td>Fr. Daoud Lamei</td>\n",
       "      <td>FAMILY</td>\n",
       "      <td>5.0</td>\n",
       "      <td>22</td>\n",
       "      <td>8.6</td>\n",
       "      <td>1000.0</td>\n",
       "      <td>Free</td>\n",
       "      <td>0.0</td>\n",
       "      <td>Teen</td>\n",
       "      <td>Education</td>\n",
       "      <td>2018-06-27</td>\n",
       "      <td>3.8.0</td>\n",
       "      <td>4.1 and up</td>\n",
       "    </tr>\n",
       "    <tr>\n",
       "      <th>10837</th>\n",
       "      <td>Fr. Mike Schmitz Audio Teachings</td>\n",
       "      <td>FAMILY</td>\n",
       "      <td>5.0</td>\n",
       "      <td>4</td>\n",
       "      <td>3.6</td>\n",
       "      <td>100.0</td>\n",
       "      <td>Free</td>\n",
       "      <td>0.0</td>\n",
       "      <td>Everyone</td>\n",
       "      <td>Education</td>\n",
       "      <td>2018-07-06</td>\n",
       "      <td>1.0</td>\n",
       "      <td>4.1 and up</td>\n",
       "    </tr>\n",
       "  </tbody>\n",
       "</table>\n",
       "<p>266 rows × 13 columns</p>\n",
       "</div>"
      ],
      "text/plain": [
       "                                              App   Category  Rating  Reviews  \\\n",
       "329                  Hojiboy Tojiboyev Life Hacks     COMICS     5.0       15   \n",
       "612                 American Girls Mobile Numbers     DATING     5.0        5   \n",
       "615                                  Awake Dating     DATING     5.0        2   \n",
       "633                         Spine- The dating app     DATING     5.0        5   \n",
       "636    Girls Live Talk - Free Text and Video Chat     DATING     5.0        6   \n",
       "...                                           ...        ...     ...      ...   \n",
       "10721                           Mad Dash Fo' Cash       GAME     5.0       14   \n",
       "10742                       GKPB FP Online Church  LIFESTYLE     5.0       32   \n",
       "10776                            Monster Ride Pro       GAME     5.0        1   \n",
       "10820                             Fr. Daoud Lamei     FAMILY     5.0       22   \n",
       "10837            Fr. Mike Schmitz Audio Teachings     FAMILY     5.0        4   \n",
       "\n",
       "          Size  Installs  Type  Price Content Rating     Genres Last Updated  \\\n",
       "329    37000.0    1000.0  Free    0.0       Everyone     Comics   2018-06-26   \n",
       "612        4.4    1000.0  Free    0.0     Mature 17+     Dating   2018-07-17   \n",
       "615    70000.0     100.0  Free    0.0     Mature 17+     Dating   2018-07-24   \n",
       "633        9.3     500.0  Free    0.0           Teen     Dating   2018-07-14   \n",
       "636        5.0     100.0  Free    0.0     Mature 17+     Dating   2018-08-01   \n",
       "...        ...       ...   ...    ...            ...        ...          ...   \n",
       "10721  16000.0     100.0  Free    0.0       Everyone     Arcade   2017-06-19   \n",
       "10742      7.9    1000.0  Free    0.0       Everyone  Lifestyle   2017-12-31   \n",
       "10776  24000.0      10.0  Free    0.0       Everyone     Racing   2018-03-05   \n",
       "10820      8.6    1000.0  Free    0.0           Teen  Education   2018-06-27   \n",
       "10837      3.6     100.0  Free    0.0       Everyone  Education   2018-07-06   \n",
       "\n",
       "      Current Ver   Android Ver  \n",
       "329           2.0  4.0.3 and up  \n",
       "612           3.0  4.0.3 and up  \n",
       "615         2.2.9    4.4 and up  \n",
       "633           4.0  4.0.3 and up  \n",
       "636           8.2  4.0.3 and up  \n",
       "...           ...           ...  \n",
       "10721        2.5a    4.1 and up  \n",
       "10742       0.7.1    4.4 and up  \n",
       "10776         2.0    2.3 and up  \n",
       "10820       3.8.0    4.1 and up  \n",
       "10837         1.0    4.1 and up  \n",
       "\n",
       "[266 rows x 13 columns]"
      ]
     },
     "execution_count": 77,
     "metadata": {},
     "output_type": "execute_result"
    }
   ],
   "source": [
    "df[df['Rating']==5]"
   ]
  },
  {
   "cell_type": "code",
   "execution_count": null,
   "id": "a1d78944",
   "metadata": {},
   "outputs": [],
   "source": []
  }
 ],
 "metadata": {
  "kernelspec": {
   "display_name": "Python 3 (ipykernel)",
   "language": "python",
   "name": "python3"
  },
  "language_info": {
   "codemirror_mode": {
    "name": "ipython",
    "version": 3
   },
   "file_extension": ".py",
   "mimetype": "text/x-python",
   "name": "python",
   "nbconvert_exporter": "python",
   "pygments_lexer": "ipython3",
   "version": "3.9.12"
  }
 },
 "nbformat": 4,
 "nbformat_minor": 5
}
